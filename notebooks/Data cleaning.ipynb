{
 "cells": [
  {
   "cell_type": "markdown",
   "metadata": {},
   "source": [
    "## Data Preprocessing"
   ]
  },
  {
   "cell_type": "code",
   "execution_count": 2,
   "metadata": {},
   "outputs": [],
   "source": [
    "import pandas as pd\n",
    "pd.options.display.max_columns=110\n",
    "pd.options.display.max_rows=300\n",
    "import numpy as np\n",
    "import pleiades as ple\n",
    "import json"
   ]
  },
  {
   "cell_type": "markdown",
   "metadata": {},
   "source": [
    "Load raw data and classified data."
   ]
  },
  {
   "cell_type": "code",
   "execution_count": 17,
   "metadata": {},
   "outputs": [],
   "source": [
    "import_path = r'..\\data\\#michellewilliams_raw.csv'\n",
    "data = pd.read_csv(import_path, low_memory=False)\n",
    "\n",
    "import_path = r'..\\data\\#michellewilliams_classify.csv'\n",
    "data2 = pd.read_csv(import_path, low_memory=False)"
   ]
  },
  {
   "cell_type": "code",
   "execution_count": 18,
   "metadata": {},
   "outputs": [
    {
     "data": {
      "text/plain": [
       "(13452, 353)"
      ]
     },
     "execution_count": 18,
     "metadata": {},
     "output_type": "execute_result"
    }
   ],
   "source": [
    "data.shape"
   ]
  },
  {
   "cell_type": "code",
   "execution_count": 19,
   "metadata": {
    "scrolled": true
   },
   "outputs": [
    {
     "data": {
      "text/plain": [
       "(13452, 5)"
      ]
     },
     "execution_count": 19,
     "metadata": {},
     "output_type": "execute_result"
    }
   ],
   "source": [
    "data2.shape"
   ]
  },
  {
   "cell_type": "markdown",
   "metadata": {},
   "source": [
    "Copy classifications onto raw data."
   ]
  },
  {
   "cell_type": "code",
   "execution_count": 20,
   "metadata": {},
   "outputs": [],
   "source": [
    "data['conservative'] = data2['conservative']"
   ]
  },
  {
   "cell_type": "markdown",
   "metadata": {},
   "source": [
    "Drop unclassified rows"
   ]
  },
  {
   "cell_type": "code",
   "execution_count": 21,
   "metadata": {},
   "outputs": [],
   "source": [
    "data = data.dropna(subset=['conservative'])"
   ]
  },
  {
   "cell_type": "code",
   "execution_count": 22,
   "metadata": {
    "scrolled": true
   },
   "outputs": [
    {
     "data": {
      "text/plain": [
       "(9036, 354)"
      ]
     },
     "execution_count": 22,
     "metadata": {},
     "output_type": "execute_result"
    }
   ],
   "source": [
    "data.shape"
   ]
  },
  {
   "cell_type": "markdown",
   "metadata": {},
   "source": [
    "Extract desired features for next step."
   ]
  },
  {
   "cell_type": "code",
   "execution_count": 31,
   "metadata": {},
   "outputs": [],
   "source": [
    "features = ['user.id_str', 'user.description', 'conservative']"
   ]
  },
  {
   "cell_type": "code",
   "execution_count": 32,
   "metadata": {},
   "outputs": [],
   "source": [
    "df = data[features]"
   ]
  },
  {
   "cell_type": "markdown",
   "metadata": {},
   "source": [
    "Drop duplicate users."
   ]
  },
  {
   "cell_type": "code",
   "execution_count": 34,
   "metadata": {},
   "outputs": [],
   "source": [
    "df = df.drop_duplicates(subset='user.id_str')"
   ]
  },
  {
   "cell_type": "code",
   "execution_count": 35,
   "metadata": {},
   "outputs": [
    {
     "data": {
      "text/plain": [
       "(8381, 3)"
      ]
     },
     "execution_count": 35,
     "metadata": {},
     "output_type": "execute_result"
    }
   ],
   "source": [
    "df.shape"
   ]
  },
  {
   "cell_type": "code",
   "execution_count": 36,
   "metadata": {},
   "outputs": [],
   "source": [
    "export_path = r'..\\data\\#michellewilliams_users.csv'\n",
    "df.to_csv(export_path, index=False)"
   ]
  },
  {
   "cell_type": "code",
   "execution_count": 30,
   "metadata": {},
   "outputs": [
    {
     "data": {
      "text/plain": [
       "753643604426489856"
      ]
     },
     "execution_count": 30,
     "metadata": {},
     "output_type": "execute_result"
    }
   ],
   "source": [
    "df['user.id_str'][0]"
   ]
  },
  {
   "cell_type": "code",
   "execution_count": null,
   "metadata": {},
   "outputs": [],
   "source": []
  },
  {
   "cell_type": "code",
   "execution_count": null,
   "metadata": {},
   "outputs": [],
   "source": []
  },
  {
   "cell_type": "code",
   "execution_count": null,
   "metadata": {},
   "outputs": [],
   "source": []
  },
  {
   "cell_type": "code",
   "execution_count": null,
   "metadata": {},
   "outputs": [],
   "source": []
  },
  {
   "cell_type": "code",
   "execution_count": null,
   "metadata": {},
   "outputs": [],
   "source": []
  },
  {
   "cell_type": "code",
   "execution_count": 4,
   "metadata": {},
   "outputs": [],
   "source": [
    "nabe = ple.Nabe()"
   ]
  },
  {
   "cell_type": "code",
   "execution_count": 15,
   "metadata": {},
   "outputs": [],
   "source": [
    "data = data.dropna(subset=['conservative'])"
   ]
  },
  {
   "cell_type": "code",
   "execution_count": 16,
   "metadata": {},
   "outputs": [
    {
     "data": {
      "text/plain": [
       "(9036, 354)"
      ]
     },
     "execution_count": 16,
     "metadata": {},
     "output_type": "execute_result"
    }
   ],
   "source": [
    "data.shape"
   ]
  },
  {
   "cell_type": "code",
   "execution_count": null,
   "metadata": {},
   "outputs": [],
   "source": []
  },
  {
   "cell_type": "code",
   "execution_count": null,
   "metadata": {},
   "outputs": [],
   "source": [
    "export_path = r'..\\data\\#michellewilliams.csv'\n",
    "data.to_csv(export_path, index=False)"
   ]
  },
  {
   "cell_type": "code",
   "execution_count": 12,
   "metadata": {},
   "outputs": [],
   "source": [
    "data['conservative'] = data2['conservative']"
   ]
  },
  {
   "cell_type": "code",
   "execution_count": null,
   "metadata": {},
   "outputs": [],
   "source": []
  },
  {
   "cell_type": "code",
   "execution_count": 11,
   "metadata": {
    "scrolled": true
   },
   "outputs": [
    {
     "data": {
      "text/plain": [
       "{'retweeted_status.id_str': 3005,\n",
       " 'retweeted_status.full_text': 12757,\n",
       " 'conservative': 4416}"
      ]
     },
     "execution_count": 11,
     "metadata": {},
     "output_type": "execute_result"
    }
   ],
   "source": [
    "nabe.get_nulls(data2)"
   ]
  },
  {
   "cell_type": "code",
   "execution_count": 36,
   "metadata": {},
   "outputs": [],
   "source": [
    "data['conservative'] = data2['conservative']"
   ]
  },
  {
   "cell_type": "code",
   "execution_count": 39,
   "metadata": {},
   "outputs": [],
   "source": [
    "data = data.dropna(subset=['conservative'])"
   ]
  },
  {
   "cell_type": "code",
   "execution_count": 40,
   "metadata": {},
   "outputs": [
    {
     "data": {
      "text/plain": [
       "(9036, 354)"
      ]
     },
     "execution_count": 40,
     "metadata": {},
     "output_type": "execute_result"
    }
   ],
   "source": [
    "data.shape"
   ]
  },
  {
   "cell_type": "code",
   "execution_count": 42,
   "metadata": {},
   "outputs": [
    {
     "data": {
      "text/plain": [
       "0.0    5031\n",
       "1.0    4005\n",
       "Name: conservative, dtype: int64"
      ]
     },
     "execution_count": 42,
     "metadata": {},
     "output_type": "execute_result"
    }
   ],
   "source": [
    "data['conservative'].value_counts()"
   ]
  },
  {
   "cell_type": "code",
   "execution_count": 36,
   "metadata": {},
   "outputs": [],
   "source": [
    "n = 4012"
   ]
  },
  {
   "cell_type": "code",
   "execution_count": 37,
   "metadata": {},
   "outputs": [
    {
     "data": {
      "text/plain": [
       "created_at                                                                  Thu Dec 19 23:32:52 +0000 2019\n",
       "id                                                                                     1207806033495764992\n",
       "id_str                                                                                 1207806033495764992\n",
       "full_text                                                @kateolivieri @matumazza @jk_rowling Are you s...\n",
       "truncated                                                                                            False\n",
       "display_text_range                                                                                [37, 74]\n",
       "source                                                   <a href=\"http://twitter.com/download/iphone\" r...\n",
       "in_reply_to_status_id                                                                          1.20767e+18\n",
       "in_reply_to_status_id_str                                                              1207671591049605124\n",
       "in_reply_to_user_id                                                                            4.40691e+08\n",
       "in_reply_to_user_id_str                                                                          440690592\n",
       "in_reply_to_screen_name                                                                       kateolivieri\n",
       "geo                                                                                                   None\n",
       "coordinates                                                                                           None\n",
       "place                                                                                                  NaN\n",
       "contributors                                                                                          None\n",
       "is_quote_status                                                                                      False\n",
       "retweet_count                                                                                            0\n",
       "favorite_count                                                                                           1\n",
       "favorited                                                                                            False\n",
       "retweeted                                                                                            False\n",
       "lang                                                                                                    en\n",
       "entities.hashtags                                                                                       []\n",
       "entities.symbols                                                                                        []\n",
       "entities.user_mentions                                   [{'screen_name': 'kateolivieri', 'name': 'Kate...\n",
       "entities.urls                                                                                           []\n",
       "user.id                                                                                1128142017433952256\n",
       "user.id_str                                                                            1128142017433952256\n",
       "user.name                                                                                      Juliana 🤡🤡🤡\n",
       "user.screen_name                                                                                   juptes_\n",
       "user.location                                                                                             \n",
       "user.description                                                pessoa confusa que gosta de reclamar muito\n",
       "user.url                                                                                              None\n",
       "user.entities.description.urls                                                                          []\n",
       "user.protected                                                                                       False\n",
       "user.followers_count                                                                                    60\n",
       "user.friends_count                                                                                     317\n",
       "user.listed_count                                                                                        0\n",
       "user.created_at                                                             Tue May 14 03:36:31 +0000 2019\n",
       "user.favourites_count                                                                                17127\n",
       "user.utc_offset                                                                                       None\n",
       "user.time_zone                                                                                        None\n",
       "user.geo_enabled                                                                                     False\n",
       "user.verified                                                                                        False\n",
       "user.statuses_count                                                                                   4345\n",
       "user.lang                                                                                             None\n",
       "user.contributors_enabled                                                                            False\n",
       "user.is_translator                                                                                   False\n",
       "user.is_translation_enabled                                                                          False\n",
       "user.profile_background_color                                                                       F5F8FA\n",
       "user.profile_background_image_url                                                                     None\n",
       "user.profile_background_image_url_https                                                               None\n",
       "user.profile_background_tile                                                                         False\n",
       "user.profile_image_url                                   http://pbs.twimg.com/profile_images/1202836231...\n",
       "user.profile_image_url_https                             https://pbs.twimg.com/profile_images/120283623...\n",
       "user.profile_banner_url                                  https://pbs.twimg.com/profile_banners/11281420...\n",
       "user.profile_link_color                                                                             1DA1F2\n",
       "user.profile_sidebar_border_color                                                                   C0DEED\n",
       "user.profile_sidebar_fill_color                                                                     DDEEF6\n",
       "user.profile_text_color                                                                             333333\n",
       "user.profile_use_background_image                                                                     True\n",
       "user.has_extended_profile                                                                             True\n",
       "user.default_profile                                                                                  True\n",
       "user.default_profile_image                                                                           False\n",
       "user.can_media_tag                                                                                    True\n",
       "user.followed_by                                                                                     False\n",
       "user.following                                                                                       False\n",
       "user.follow_request_sent                                                                             False\n",
       "user.notifications                                                                                   False\n",
       "user.translator_type                                                                                  none\n",
       "user.entities.url.urls                                                                                 NaN\n",
       "possibly_sensitive                                                                                     NaN\n",
       "possibly_sensitive_appealable                                                                          NaN\n",
       "entities.media                                                                                         NaN\n",
       "extended_entities.media                                                                                NaN\n",
       "quoted_status_id                                                                                       NaN\n",
       "quoted_status_id_str                                                                                   NaN\n",
       "quoted_status_permalink.url                                                                            NaN\n",
       "quoted_status_permalink.expanded                                                                       NaN\n",
       "quoted_status_permalink.display                                                                        NaN\n",
       "quoted_status.created_at                                                                               NaN\n",
       "quoted_status.id                                                                                       NaN\n",
       "quoted_status.id_str                                                                                   NaN\n",
       "quoted_status.full_text                                                                                NaN\n",
       "quoted_status.truncated                                                                                NaN\n",
       "quoted_status.display_text_range                                                                       NaN\n",
       "quoted_status.entities.hashtags                                                                        NaN\n",
       "quoted_status.entities.symbols                                                                         NaN\n",
       "quoted_status.entities.user_mentions                                                                   NaN\n",
       "quoted_status.entities.urls                                                                            NaN\n",
       "quoted_status.source                                                                                   NaN\n",
       "quoted_status.in_reply_to_status_id                                                                    NaN\n",
       "quoted_status.in_reply_to_status_id_str                                                                NaN\n",
       "quoted_status.in_reply_to_user_id                                                                      NaN\n",
       "quoted_status.in_reply_to_user_id_str                                                                  NaN\n",
       "quoted_status.in_reply_to_screen_name                                                                  NaN\n",
       "quoted_status.user.id                                                                                  NaN\n",
       "quoted_status.user.id_str                                                                              NaN\n",
       "quoted_status.user.name                                                                                NaN\n",
       "quoted_status.user.screen_name                                                                         NaN\n",
       "quoted_status.user.location                                                                            NaN\n",
       "quoted_status.user.description                                                                         NaN\n",
       "quoted_status.user.url                                                                                 NaN\n",
       "quoted_status.user.entities.url.urls                                                                   NaN\n",
       "quoted_status.user.entities.description.urls                                                           NaN\n",
       "quoted_status.user.protected                                                                           NaN\n",
       "quoted_status.user.followers_count                                                                     NaN\n",
       "quoted_status.user.friends_count                                                                       NaN\n",
       "quoted_status.user.listed_count                                                                        NaN\n",
       "quoted_status.user.created_at                                                                          NaN\n",
       "quoted_status.user.favourites_count                                                                    NaN\n",
       "quoted_status.user.utc_offset                                                                          NaN\n",
       "quoted_status.user.time_zone                                                                           NaN\n",
       "quoted_status.user.geo_enabled                                                                         NaN\n",
       "quoted_status.user.verified                                                                            NaN\n",
       "quoted_status.user.statuses_count                                                                      NaN\n",
       "quoted_status.user.lang                                                                                NaN\n",
       "quoted_status.user.contributors_enabled                                                                NaN\n",
       "quoted_status.user.is_translator                                                                       NaN\n",
       "quoted_status.user.is_translation_enabled                                                              NaN\n",
       "quoted_status.user.profile_background_color                                                            NaN\n",
       "quoted_status.user.profile_background_image_url                                                        NaN\n",
       "quoted_status.user.profile_background_image_url_https                                                  NaN\n",
       "quoted_status.user.profile_background_tile                                                             NaN\n",
       "quoted_status.user.profile_image_url                                                                   NaN\n",
       "quoted_status.user.profile_image_url_https                                                             NaN\n",
       "quoted_status.user.profile_banner_url                                                                  NaN\n",
       "quoted_status.user.profile_link_color                                                                  NaN\n",
       "quoted_status.user.profile_sidebar_border_color                                                        NaN\n",
       "quoted_status.user.profile_sidebar_fill_color                                                          NaN\n",
       "quoted_status.user.profile_text_color                                                                  NaN\n",
       "quoted_status.user.profile_use_background_image                                                        NaN\n",
       "quoted_status.user.has_extended_profile                                                                NaN\n",
       "quoted_status.user.default_profile                                                                     NaN\n",
       "quoted_status.user.default_profile_image                                                               NaN\n",
       "quoted_status.user.can_media_tag                                                                       NaN\n",
       "quoted_status.user.followed_by                                                                         NaN\n",
       "quoted_status.user.following                                                                           NaN\n",
       "quoted_status.user.follow_request_sent                                                                 NaN\n",
       "quoted_status.user.notifications                                                                       NaN\n",
       "quoted_status.user.translator_type                                                                     NaN\n",
       "quoted_status.geo                                                                                      NaN\n",
       "quoted_status.coordinates                                                                              NaN\n",
       "quoted_status.place                                                                                    NaN\n",
       "quoted_status.contributors                                                                             NaN\n",
       "quoted_status.is_quote_status                                                                          NaN\n",
       "quoted_status.retweet_count                                                                            NaN\n",
       "quoted_status.favorite_count                                                                           NaN\n",
       "quoted_status.favorited                                                                                NaN\n",
       "quoted_status.retweeted                                                                                NaN\n",
       "quoted_status.lang                                                                                     NaN\n",
       "place.id                                                                                               NaN\n",
       "place.url                                                                                              NaN\n",
       "place.place_type                                                                                       NaN\n",
       "place.name                                                                                             NaN\n",
       "place.full_name                                                                                        NaN\n",
       "place.country_code                                                                                     NaN\n",
       "place.country                                                                                          NaN\n",
       "place.contained_within                                                                                 NaN\n",
       "place.bounding_box.type                                                                                NaN\n",
       "place.bounding_box.coordinates                                                                         NaN\n",
       "quoted_status.entities.media                                                                           NaN\n",
       "quoted_status.extended_entities.media                                                                  NaN\n",
       "quoted_status.possibly_sensitive                                                                       NaN\n",
       "quoted_status.possibly_sensitive_appealable                                                            NaN\n",
       "quoted_status.quoted_status_id                                                                         NaN\n",
       "quoted_status.quoted_status_id_str                                                                     NaN\n",
       "quoted_status.quoted_status_permalink.url                                                              NaN\n",
       "quoted_status.quoted_status_permalink.expanded                                                         NaN\n",
       "quoted_status.quoted_status_permalink.display                                                          NaN\n",
       "quoted_status.place.id                                                                                 NaN\n",
       "quoted_status.place.url                                                                                NaN\n",
       "quoted_status.place.place_type                                                                         NaN\n",
       "quoted_status.place.name                                                                               NaN\n",
       "quoted_status.place.full_name                                                                          NaN\n",
       "quoted_status.place.country_code                                                                       NaN\n",
       "quoted_status.place.country                                                                            NaN\n",
       "quoted_status.place.contained_within                                                                   NaN\n",
       "quoted_status.place.bounding_box.type                                                                  NaN\n",
       "quoted_status.place.bounding_box.coordinates                                                           NaN\n",
       "Name: 4012, dtype: object"
      ]
     },
     "execution_count": 37,
     "metadata": {},
     "output_type": "execute_result"
    }
   ],
   "source": [
    "data.loc[n]"
   ]
  },
  {
   "cell_type": "code",
   "execution_count": 38,
   "metadata": {},
   "outputs": [
    {
     "data": {
      "text/plain": [
       "'@kateolivieri @matumazza @jk_rowling Are you sure you live in this planet?'"
      ]
     },
     "execution_count": 38,
     "metadata": {},
     "output_type": "execute_result"
    }
   ],
   "source": [
    "t = data['full_text'][n]\n",
    "t"
   ]
  },
  {
   "cell_type": "code",
   "execution_count": 781,
   "metadata": {},
   "outputs": [],
   "source": [
    "data['conservative'] = [1 if x == t else y for x, y in zip(data['full_text'], data['conservative'])]"
   ]
  },
  {
   "cell_type": "code",
   "execution_count": 39,
   "metadata": {},
   "outputs": [],
   "source": [
    "export_path = r'..\\data\\replies_to_jk_rowling_classify3.csv'\n",
    "data.to_csv(export_path, index=False)"
   ]
  },
  {
   "cell_type": "code",
   "execution_count": null,
   "metadata": {},
   "outputs": [],
   "source": []
  },
  {
   "cell_type": "code",
   "execution_count": null,
   "metadata": {},
   "outputs": [],
   "source": []
  },
  {
   "cell_type": "code",
   "execution_count": null,
   "metadata": {},
   "outputs": [],
   "source": []
  },
  {
   "cell_type": "code",
   "execution_count": null,
   "metadata": {},
   "outputs": [],
   "source": []
  },
  {
   "cell_type": "code",
   "execution_count": null,
   "metadata": {},
   "outputs": [],
   "source": []
  },
  {
   "cell_type": "code",
   "execution_count": null,
   "metadata": {},
   "outputs": [],
   "source": []
  },
  {
   "cell_type": "code",
   "execution_count": 798,
   "metadata": {},
   "outputs": [],
   "source": [
    "import json"
   ]
  },
  {
   "cell_type": "code",
   "execution_count": 822,
   "metadata": {},
   "outputs": [],
   "source": [
    "import_path = r'..\\data\\replies_to_jk_rowling.json'\n",
    "with open(import_path) as f:\n",
    "    j = json.load(f)\n",
    "    data = pd.io.json.json_normalize(j)\n",
    "\n",
    "# import_path = r'..\\data\\#michellewilliams_classify2.csv'\n",
    "# data2 = pd.read_json(import_path, low_memory=False)"
   ]
  },
  {
   "cell_type": "code",
   "execution_count": 823,
   "metadata": {},
   "outputs": [
    {
     "data": {
      "text/plain": [
       "(5726, 180)"
      ]
     },
     "execution_count": 823,
     "metadata": {},
     "output_type": "execute_result"
    }
   ],
   "source": [
    "data.shape"
   ]
  },
  {
   "cell_type": "code",
   "execution_count": 803,
   "metadata": {},
   "outputs": [
    {
     "data": {
      "text/plain": [
       "Index(['created_at', 'id', 'id_str', 'full_text', 'truncated',\n",
       "       'display_text_range', 'source', 'in_reply_to_status_id',\n",
       "       'in_reply_to_status_id_str', 'in_reply_to_user_id',\n",
       "       ...\n",
       "       'quoted_status.place.id', 'quoted_status.place.url',\n",
       "       'quoted_status.place.place_type', 'quoted_status.place.name',\n",
       "       'quoted_status.place.full_name', 'quoted_status.place.country_code',\n",
       "       'quoted_status.place.country', 'quoted_status.place.contained_within',\n",
       "       'quoted_status.place.bounding_box.type',\n",
       "       'quoted_status.place.bounding_box.coordinates'],\n",
       "      dtype='object', length=180)"
      ]
     },
     "execution_count": 803,
     "metadata": {},
     "output_type": "execute_result"
    }
   ],
   "source": [
    "data.columns"
   ]
  },
  {
   "cell_type": "code",
   "execution_count": 810,
   "metadata": {},
   "outputs": [],
   "source": [
    "export_path = r'..\\data\\replies_to_jk_rowling.csv'\n",
    "data.to_csv(export_path, index=False)"
   ]
  },
  {
   "cell_type": "code",
   "execution_count": 808,
   "metadata": {},
   "outputs": [
    {
     "data": {
      "text/plain": [
       "0       False\n",
       "1       False\n",
       "2       False\n",
       "3       False\n",
       "4       False\n",
       "        ...  \n",
       "5721    False\n",
       "5722    False\n",
       "5723    False\n",
       "5724    False\n",
       "5725    False\n",
       "Name: retweeted, Length: 5726, dtype: bool"
      ]
     },
     "execution_count": 808,
     "metadata": {},
     "output_type": "execute_result"
    }
   ],
   "source": [
    "data['retweeted']"
   ]
  },
  {
   "cell_type": "code",
   "execution_count": 829,
   "metadata": {},
   "outputs": [],
   "source": [
    "df = data[(data['lang'] == 'en') | (data['lang'] == 'und')]"
   ]
  },
  {
   "cell_type": "code",
   "execution_count": 830,
   "metadata": {},
   "outputs": [
    {
     "data": {
      "text/plain": [
       "(5361, 180)"
      ]
     },
     "execution_count": 830,
     "metadata": {},
     "output_type": "execute_result"
    }
   ],
   "source": [
    "df.shape"
   ]
  },
  {
   "cell_type": "code",
   "execution_count": 831,
   "metadata": {},
   "outputs": [],
   "source": [
    "df = df[['id_str', 'full_text']]"
   ]
  },
  {
   "cell_type": "code",
   "execution_count": 832,
   "metadata": {},
   "outputs": [],
   "source": [
    "export_path = r'..\\data\\replies_to_jk_rowling_classify2.csv'\n",
    "df.to_csv(export_path, index=False)"
   ]
  },
  {
   "cell_type": "code",
   "execution_count": 838,
   "metadata": {},
   "outputs": [],
   "source": [
    "import_path = r'..\\data\\replies_to_jk_rowling_classify3.xlsx'\n",
    "data2 = pd.read_excel(import_path)"
   ]
  },
  {
   "cell_type": "code",
   "execution_count": 839,
   "metadata": {},
   "outputs": [
    {
     "data": {
      "text/plain": [
       "(5726, 3)"
      ]
     },
     "execution_count": 839,
     "metadata": {},
     "output_type": "execute_result"
    }
   ],
   "source": [
    "data2.shape"
   ]
  },
  {
   "cell_type": "code",
   "execution_count": 840,
   "metadata": {},
   "outputs": [
    {
     "data": {
      "text/plain": [
       "(5361, 2)"
      ]
     },
     "execution_count": 840,
     "metadata": {},
     "output_type": "execute_result"
    }
   ],
   "source": [
    "df.shape"
   ]
  },
  {
   "cell_type": "code",
   "execution_count": 843,
   "metadata": {},
   "outputs": [
    {
     "ename": "ValueError",
     "evalue": "You are trying to merge on object and int64 columns. If you wish to proceed you should use pd.concat",
     "output_type": "error",
     "traceback": [
      "\u001b[1;31m---------------------------------------------------------------------------\u001b[0m",
      "\u001b[1;31mValueError\u001b[0m                                Traceback (most recent call last)",
      "\u001b[1;32m<ipython-input-843-af8d8e6c197e>\u001b[0m in \u001b[0;36m<module>\u001b[1;34m\u001b[0m\n\u001b[1;32m----> 1\u001b[1;33m \u001b[0mdf2\u001b[0m \u001b[1;33m=\u001b[0m \u001b[0mpd\u001b[0m\u001b[1;33m.\u001b[0m\u001b[0mmerge\u001b[0m\u001b[1;33m(\u001b[0m\u001b[0mdf\u001b[0m\u001b[1;33m,\u001b[0m \u001b[0mdata2\u001b[0m\u001b[1;33m,\u001b[0m \u001b[0mhow\u001b[0m\u001b[1;33m=\u001b[0m\u001b[1;34m'inner'\u001b[0m\u001b[1;33m,\u001b[0m \u001b[0mon\u001b[0m\u001b[1;33m=\u001b[0m\u001b[1;34m'id_str'\u001b[0m\u001b[1;33m)\u001b[0m\u001b[1;33m\u001b[0m\u001b[1;33m\u001b[0m\u001b[0m\n\u001b[0m",
      "\u001b[1;32m~\\.conda\\envs\\test\\lib\\site-packages\\pandas\\core\\reshape\\merge.py\u001b[0m in \u001b[0;36mmerge\u001b[1;34m(left, right, how, on, left_on, right_on, left_index, right_index, sort, suffixes, copy, indicator, validate)\u001b[0m\n\u001b[0;32m     79\u001b[0m         \u001b[0mcopy\u001b[0m\u001b[1;33m=\u001b[0m\u001b[0mcopy\u001b[0m\u001b[1;33m,\u001b[0m\u001b[1;33m\u001b[0m\u001b[1;33m\u001b[0m\u001b[0m\n\u001b[0;32m     80\u001b[0m         \u001b[0mindicator\u001b[0m\u001b[1;33m=\u001b[0m\u001b[0mindicator\u001b[0m\u001b[1;33m,\u001b[0m\u001b[1;33m\u001b[0m\u001b[1;33m\u001b[0m\u001b[0m\n\u001b[1;32m---> 81\u001b[1;33m         \u001b[0mvalidate\u001b[0m\u001b[1;33m=\u001b[0m\u001b[0mvalidate\u001b[0m\u001b[1;33m,\u001b[0m\u001b[1;33m\u001b[0m\u001b[1;33m\u001b[0m\u001b[0m\n\u001b[0m\u001b[0;32m     82\u001b[0m     )\n\u001b[0;32m     83\u001b[0m     \u001b[1;32mreturn\u001b[0m \u001b[0mop\u001b[0m\u001b[1;33m.\u001b[0m\u001b[0mget_result\u001b[0m\u001b[1;33m(\u001b[0m\u001b[1;33m)\u001b[0m\u001b[1;33m\u001b[0m\u001b[1;33m\u001b[0m\u001b[0m\n",
      "\u001b[1;32m~\\.conda\\envs\\test\\lib\\site-packages\\pandas\\core\\reshape\\merge.py\u001b[0m in \u001b[0;36m__init__\u001b[1;34m(self, left, right, how, on, left_on, right_on, axis, left_index, right_index, sort, suffixes, copy, indicator, validate)\u001b[0m\n\u001b[0;32m    628\u001b[0m         \u001b[1;31m# validate the merge keys dtypes. We may need to coerce\u001b[0m\u001b[1;33m\u001b[0m\u001b[1;33m\u001b[0m\u001b[1;33m\u001b[0m\u001b[0m\n\u001b[0;32m    629\u001b[0m         \u001b[1;31m# to avoid incompat dtypes\u001b[0m\u001b[1;33m\u001b[0m\u001b[1;33m\u001b[0m\u001b[1;33m\u001b[0m\u001b[0m\n\u001b[1;32m--> 630\u001b[1;33m         \u001b[0mself\u001b[0m\u001b[1;33m.\u001b[0m\u001b[0m_maybe_coerce_merge_keys\u001b[0m\u001b[1;33m(\u001b[0m\u001b[1;33m)\u001b[0m\u001b[1;33m\u001b[0m\u001b[1;33m\u001b[0m\u001b[0m\n\u001b[0m\u001b[0;32m    631\u001b[0m \u001b[1;33m\u001b[0m\u001b[0m\n\u001b[0;32m    632\u001b[0m         \u001b[1;31m# If argument passed to validate,\u001b[0m\u001b[1;33m\u001b[0m\u001b[1;33m\u001b[0m\u001b[1;33m\u001b[0m\u001b[0m\n",
      "\u001b[1;32m~\\.conda\\envs\\test\\lib\\site-packages\\pandas\\core\\reshape\\merge.py\u001b[0m in \u001b[0;36m_maybe_coerce_merge_keys\u001b[1;34m(self)\u001b[0m\n\u001b[0;32m   1136\u001b[0m                     \u001b[0minferred_right\u001b[0m \u001b[1;32min\u001b[0m \u001b[0mstring_types\u001b[0m \u001b[1;32mand\u001b[0m \u001b[0minferred_left\u001b[0m \u001b[1;32mnot\u001b[0m \u001b[1;32min\u001b[0m \u001b[0mstring_types\u001b[0m\u001b[1;33m\u001b[0m\u001b[1;33m\u001b[0m\u001b[0m\n\u001b[0;32m   1137\u001b[0m                 ):\n\u001b[1;32m-> 1138\u001b[1;33m                     \u001b[1;32mraise\u001b[0m \u001b[0mValueError\u001b[0m\u001b[1;33m(\u001b[0m\u001b[0mmsg\u001b[0m\u001b[1;33m)\u001b[0m\u001b[1;33m\u001b[0m\u001b[1;33m\u001b[0m\u001b[0m\n\u001b[0m\u001b[0;32m   1139\u001b[0m \u001b[1;33m\u001b[0m\u001b[0m\n\u001b[0;32m   1140\u001b[0m             \u001b[1;31m# datetimelikes must match exactly\u001b[0m\u001b[1;33m\u001b[0m\u001b[1;33m\u001b[0m\u001b[1;33m\u001b[0m\u001b[0m\n",
      "\u001b[1;31mValueError\u001b[0m: You are trying to merge on object and int64 columns. If you wish to proceed you should use pd.concat"
     ]
    }
   ],
   "source": [
    "df2 = pd.merge(df, data2, how='inner', on='id_str')"
   ]
  },
  {
   "cell_type": "code",
   "execution_count": 842,
   "metadata": {},
   "outputs": [
    {
     "data": {
      "text/plain": [
       "(3303, 4)"
      ]
     },
     "execution_count": 842,
     "metadata": {},
     "output_type": "execute_result"
    }
   ],
   "source": [
    "df2.shape"
   ]
  },
  {
   "cell_type": "code",
   "execution_count": 814,
   "metadata": {},
   "outputs": [],
   "source": [
    "export_path = r'..\\data\\replies_to_jk_rowling_classify.csv'\n",
    "df.to_csv(export_path, index=False)"
   ]
  },
  {
   "cell_type": "code",
   "execution_count": null,
   "metadata": {},
   "outputs": [],
   "source": []
  },
  {
   "cell_type": "code",
   "execution_count": null,
   "metadata": {},
   "outputs": [],
   "source": []
  },
  {
   "cell_type": "code",
   "execution_count": null,
   "metadata": {},
   "outputs": [],
   "source": []
  },
  {
   "cell_type": "code",
   "execution_count": null,
   "metadata": {},
   "outputs": [],
   "source": []
  },
  {
   "cell_type": "code",
   "execution_count": 52,
   "metadata": {},
   "outputs": [
    {
     "data": {
      "text/plain": [
       "'RT @CriticsChoice: #Michellewilliams wins the #criticschoice Award for Best Actress In A Limited Series Or Movie Made For Television for he…'"
      ]
     },
     "execution_count": 52,
     "metadata": {},
     "output_type": "execute_result"
    }
   ],
   "source": [
    "df['full_text'][0]"
   ]
  },
  {
   "cell_type": "code",
   "execution_count": null,
   "metadata": {},
   "outputs": [],
   "source": [
    "df['full_text'][0]"
   ]
  },
  {
   "cell_type": "code",
   "execution_count": 86,
   "metadata": {},
   "outputs": [
    {
     "data": {
      "text/plain": [
       "(13482, 4)"
      ]
     },
     "execution_count": 86,
     "metadata": {},
     "output_type": "execute_result"
    }
   ],
   "source": [
    "df.shape"
   ]
  },
  {
   "cell_type": "code",
   "execution_count": 66,
   "metadata": {},
   "outputs": [],
   "source": [
    "df = df[df['full_text'] != 'RT @CriticsChoice: #Michellewilliams wins the #criticschoice Award for Best Actress In A Limited Series Or Movie Made For Television for he…']"
   ]
  },
  {
   "cell_type": "code",
   "execution_count": 67,
   "metadata": {},
   "outputs": [
    {
     "data": {
      "text/plain": [
       "(13482, 4)"
      ]
     },
     "execution_count": 67,
     "metadata": {},
     "output_type": "execute_result"
    }
   ],
   "source": [
    "df.shape"
   ]
  },
  {
   "cell_type": "code",
   "execution_count": 87,
   "metadata": {},
   "outputs": [
    {
     "data": {
      "text/plain": [
       "id_str                                                      1215470667661004800\n",
       "full_text                     RT @V_actually: Hollywood's full of sexual dev...\n",
       "retweeted_status.id_str                                             1.21529e+18\n",
       "retweeted_status.full_text    Hollywood's full of sexual deviants &amp; pedo...\n",
       "Name: 1008, dtype: object"
      ]
     },
     "execution_count": 87,
     "metadata": {},
     "output_type": "execute_result"
    }
   ],
   "source": [
    "df.loc[1008]"
   ]
  },
  {
   "cell_type": "code",
   "execution_count": 88,
   "metadata": {
    "scrolled": true
   },
   "outputs": [
    {
     "data": {
      "text/plain": [
       "\"RT @V_actually: Hollywood's full of sexual deviants &amp; pedophiles that have sold their souls for fame.\\n\\nIt’s amazing the amount of brainwash…\""
      ]
     },
     "execution_count": 88,
     "metadata": {},
     "output_type": "execute_result"
    }
   ],
   "source": [
    "df['full_text'][1008]"
   ]
  },
  {
   "cell_type": "code",
   "execution_count": 92,
   "metadata": {},
   "outputs": [],
   "source": [
    "df['conservative'] = df['full_text'].map({'RT @V_actually: Hollywood\\'s full of sexual deviants &amp; pedophiles that have sold their souls for fame.\\n\\nIt’s amazing the amount of brainwash…': 1})"
   ]
  },
  {
   "cell_type": "code",
   "execution_count": 93,
   "metadata": {},
   "outputs": [
    {
     "data": {
      "text/plain": [
       "506"
      ]
     },
     "execution_count": 93,
     "metadata": {},
     "output_type": "execute_result"
    }
   ],
   "source": [
    "df['conservative'].count()"
   ]
  },
  {
   "cell_type": "code",
   "execution_count": 94,
   "metadata": {},
   "outputs": [],
   "source": [
    "export_path = r'..\\data\\#michellewilliams_classify3.csv'\n",
    "df.to_csv(export_path, index=False)"
   ]
  },
  {
   "cell_type": "code",
   "execution_count": 95,
   "metadata": {},
   "outputs": [],
   "source": [
    "import_path = r'..\\data\\#michellewilliams_classify3.csv'\n",
    "data2 = pd.read_csv(import_path, low_memory=False)"
   ]
  },
  {
   "cell_type": "code",
   "execution_count": 98,
   "metadata": {},
   "outputs": [
    {
     "data": {
      "text/plain": [
       "id_str                                                      1215316789548199936\n",
       "full_text                     RT @americansunited: S/O to #MichelleWilliams ...\n",
       "retweeted_status.id_str                                             1.21468e+18\n",
       "retweeted_status.full_text                                                  NaN\n",
       "conservative                                                                NaN\n",
       "Name: 1205, dtype: object"
      ]
     },
     "execution_count": 98,
     "metadata": {},
     "output_type": "execute_result"
    }
   ],
   "source": [
    "data2.loc[1205]"
   ]
  },
  {
   "cell_type": "code",
   "execution_count": 78,
   "metadata": {},
   "outputs": [
    {
     "data": {
      "text/plain": [
       "1216078555152617472"
      ]
     },
     "execution_count": 78,
     "metadata": {},
     "output_type": "execute_result"
    }
   ],
   "source": [
    "data2['id_str'][232]"
   ]
  },
  {
   "cell_type": "code",
   "execution_count": 104,
   "metadata": {},
   "outputs": [],
   "source": [
    "import_path = r'..\\data\\#michellewilliams_classify5.csv'\n",
    "data3 = pd.read_csv(import_path, low_memory=False)"
   ]
  },
  {
   "cell_type": "code",
   "execution_count": 101,
   "metadata": {},
   "outputs": [
    {
     "data": {
      "text/plain": [
       "1.22e+18"
      ]
     },
     "execution_count": 101,
     "metadata": {},
     "output_type": "execute_result"
    }
   ],
   "source": [
    "data3['id_str'][232]"
   ]
  },
  {
   "cell_type": "code",
   "execution_count": 102,
   "metadata": {},
   "outputs": [
    {
     "data": {
      "text/plain": [
       "Index(['id_str', 'full_text', 'retweeted_status.id_str',\n",
       "       'retweeted_status.full_text', 'conservative'],\n",
       "      dtype='object')"
      ]
     },
     "execution_count": 102,
     "metadata": {},
     "output_type": "execute_result"
    }
   ],
   "source": [
    "data3.columns"
   ]
  },
  {
   "cell_type": "code",
   "execution_count": 114,
   "metadata": {},
   "outputs": [],
   "source": [
    "data2['conservative'] = data3['conservative']"
   ]
  },
  {
   "cell_type": "code",
   "execution_count": 115,
   "metadata": {},
   "outputs": [
    {
     "data": {
      "text/plain": [
       "\"RT @RockofLifeNI: At tonight's #goldenglobes2020 pregnant actress #MichelleWilliams said she wouldn't have won if she hadn't aborted her ot…\""
      ]
     },
     "execution_count": 115,
     "metadata": {},
     "output_type": "execute_result"
    }
   ],
   "source": [
    "data2['full_text'][101]"
   ]
  },
  {
   "cell_type": "code",
   "execution_count": 118,
   "metadata": {},
   "outputs": [],
   "source": [
    "data2['conservative'] = [1 if x == \"RT @RockofLifeNI: At tonight's #goldenglobes2020 pregnant actress #MichelleWilliams said she wouldn't have won if she hadn't aborted her ot…\" else y for x, y in zip(data2['full_text'], data2['conservative'])]"
   ]
  },
  {
   "cell_type": "code",
   "execution_count": 119,
   "metadata": {},
   "outputs": [],
   "source": [
    "export_path = r'..\\data\\#michellewilliams_classify7.csv'\n",
    "data2.to_csv(export_path, index=False)"
   ]
  },
  {
   "cell_type": "code",
   "execution_count": null,
   "metadata": {},
   "outputs": [],
   "source": []
  }
 ],
 "metadata": {
  "kernelspec": {
   "display_name": "Python 3",
   "language": "python",
   "name": "python3"
  },
  "language_info": {
   "codemirror_mode": {
    "name": "ipython",
    "version": 3
   },
   "file_extension": ".py",
   "mimetype": "text/x-python",
   "name": "python",
   "nbconvert_exporter": "python",
   "pygments_lexer": "ipython3",
   "version": "3.7.4"
  }
 },
 "nbformat": 4,
 "nbformat_minor": 2
}
