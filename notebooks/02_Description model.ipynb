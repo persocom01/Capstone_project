{
 "cells": [
  {
   "cell_type": "markdown",
   "metadata": {},
   "source": [
    "## Data Preprocessing"
   ]
  },
  {
   "cell_type": "code",
   "execution_count": 1,
   "metadata": {},
   "outputs": [],
   "source": [
    "import pandas as pd\n",
    "pd.options.display.max_columns=100\n",
    "pd.options.display.max_rows=300\n",
    "import numpy as np\n",
    "import pleiades as ple\n",
    "import json\n",
    "import re"
   ]
  },
  {
   "cell_type": "markdown",
   "metadata": {},
   "source": [
    "Load user data"
   ]
  },
  {
   "cell_type": "code",
   "execution_count": 2,
   "metadata": {},
   "outputs": [],
   "source": [
    "import_path = r'..\\data\\#michellewilliams_users.csv'\n",
    "data = pd.read_csv(import_path, low_memory=False)"
   ]
  },
  {
   "cell_type": "code",
   "execution_count": 3,
   "metadata": {},
   "outputs": [
    {
     "data": {
      "text/html": [
       "<div>\n",
       "<style scoped>\n",
       "    .dataframe tbody tr th:only-of-type {\n",
       "        vertical-align: middle;\n",
       "    }\n",
       "\n",
       "    .dataframe tbody tr th {\n",
       "        vertical-align: top;\n",
       "    }\n",
       "\n",
       "    .dataframe thead th {\n",
       "        text-align: right;\n",
       "    }\n",
       "</style>\n",
       "<table border=\"1\" class=\"dataframe\">\n",
       "  <thead>\n",
       "    <tr style=\"text-align: right;\">\n",
       "      <th></th>\n",
       "      <th>user.id_str</th>\n",
       "      <th>user.name</th>\n",
       "      <th>user.screen_name</th>\n",
       "      <th>user.description</th>\n",
       "      <th>conservative</th>\n",
       "    </tr>\n",
       "  </thead>\n",
       "  <tbody>\n",
       "    <tr>\n",
       "      <td>0</td>\n",
       "      <td>753643604426489856</td>\n",
       "      <td>Phenice McCall#BorisIsMyPrimeMinister✡️🇬🇧</td>\n",
       "      <td>PheniceMccall</td>\n",
       "      <td>NaN</td>\n",
       "      <td>1.0</td>\n",
       "    </tr>\n",
       "    <tr>\n",
       "      <td>1</td>\n",
       "      <td>1104467684</td>\n",
       "      <td>🇺🇸Michael Hays🇺🇸</td>\n",
       "      <td>MichaelHays13</td>\n",
       "      <td>Red Blooded!! All American!! 🌾Heartland born &amp;...</td>\n",
       "      <td>1.0</td>\n",
       "    </tr>\n",
       "    <tr>\n",
       "      <td>2</td>\n",
       "      <td>106310615</td>\n",
       "      <td>Manasi Scott</td>\n",
       "      <td>ManasiScott</td>\n",
       "      <td>Indian singer. Army brat. Muay Thai panda. Hor...</td>\n",
       "      <td>0.0</td>\n",
       "    </tr>\n",
       "    <tr>\n",
       "      <td>3</td>\n",
       "      <td>2993975016</td>\n",
       "      <td>Steve Rabon</td>\n",
       "      <td>srrabon_</td>\n",
       "      <td>Christian,  SC Gamecocks , College Football,  ...</td>\n",
       "      <td>1.0</td>\n",
       "    </tr>\n",
       "    <tr>\n",
       "      <td>4</td>\n",
       "      <td>954190967422242817</td>\n",
       "      <td>Bonnie Kranick</td>\n",
       "      <td>BonnieKranick</td>\n",
       "      <td>Mother of 3 Amma to 3 love my kids, love my gr...</td>\n",
       "      <td>1.0</td>\n",
       "    </tr>\n",
       "  </tbody>\n",
       "</table>\n",
       "</div>"
      ],
      "text/plain": [
       "          user.id_str                                  user.name  \\\n",
       "0  753643604426489856  Phenice McCall#BorisIsMyPrimeMinister✡️🇬🇧   \n",
       "1          1104467684                           🇺🇸Michael Hays🇺🇸   \n",
       "2           106310615                               Manasi Scott   \n",
       "3          2993975016                                Steve Rabon   \n",
       "4  954190967422242817                             Bonnie Kranick   \n",
       "\n",
       "  user.screen_name                                   user.description  \\\n",
       "0    PheniceMccall                                                NaN   \n",
       "1    MichaelHays13  Red Blooded!! All American!! 🌾Heartland born &...   \n",
       "2      ManasiScott  Indian singer. Army brat. Muay Thai panda. Hor...   \n",
       "3         srrabon_  Christian,  SC Gamecocks , College Football,  ...   \n",
       "4    BonnieKranick  Mother of 3 Amma to 3 love my kids, love my gr...   \n",
       "\n",
       "   conservative  \n",
       "0           1.0  \n",
       "1           1.0  \n",
       "2           0.0  \n",
       "3           1.0  \n",
       "4           1.0  "
      ]
     },
     "execution_count": 3,
     "metadata": {},
     "output_type": "execute_result"
    }
   ],
   "source": [
    "data.head()"
   ]
  },
  {
   "cell_type": "code",
   "execution_count": 4,
   "metadata": {},
   "outputs": [
    {
     "data": {
      "text/plain": [
       "user.id_str            0\n",
       "user.name              2\n",
       "user.screen_name       0\n",
       "user.description    1311\n",
       "conservative           0\n",
       "dtype: int64"
      ]
     },
     "execution_count": 4,
     "metadata": {},
     "output_type": "execute_result"
    }
   ],
   "source": [
    "data.isnull().sum()"
   ]
  },
  {
   "cell_type": "markdown",
   "metadata": {},
   "source": [
    "Fill null values"
   ]
  },
  {
   "cell_type": "code",
   "execution_count": 5,
   "metadata": {},
   "outputs": [],
   "source": [
    "data = data.fillna('')"
   ]
  },
  {
   "cell_type": "markdown",
   "metadata": {},
   "source": [
    "Separate #hastags and emojis from text"
   ]
  },
  {
   "cell_type": "code",
   "execution_count": 6,
   "metadata": {},
   "outputs": [],
   "source": [
    "df = data[['user.name', 'user.description']]"
   ]
  },
  {
   "cell_type": "code",
   "execution_count": 7,
   "metadata": {},
   "outputs": [],
   "source": [
    "cz = ple.CZ()"
   ]
  },
  {
   "cell_type": "code",
   "execution_count": 10,
   "metadata": {},
   "outputs": [],
   "source": [
    "import emoji"
   ]
  },
  {
   "cell_type": "code",
   "execution_count": 11,
   "metadata": {},
   "outputs": [],
   "source": [
    "df = data[['user.name', 'user.description']][:3]"
   ]
  },
  {
   "cell_type": "code",
   "execution_count": 23,
   "metadata": {},
   "outputs": [],
   "source": [
    "emoji_pattern = '(' + '|'.join(emoji.UNICODE_EMOJI.keys()) + ')'\n",
    "\n",
    "twitter_dict = {\n",
    "    emoji_pattern: r' \\1 ',\n",
    "}"
   ]
  },
  {
   "cell_type": "code",
   "execution_count": 24,
   "metadata": {},
   "outputs": [
    {
     "name": "stdout",
     "output_type": "stream",
     "text": [
      "before:  caught  caught Michael Hays caught  caught \n"
     ]
    },
    {
     "ename": "error",
     "evalue": "nothing to repeat at position 2740",
     "output_type": "error",
     "traceback": [
      "\u001b[1;31m---------------------------------------------------------------------------\u001b[0m",
      "\u001b[1;31merror\u001b[0m                                     Traceback (most recent call last)",
      "\u001b[1;32m<ipython-input-24-18ec7e8cc538>\u001b[0m in \u001b[0;36m<module>\u001b[1;34m\u001b[0m\n\u001b[0;32m      2\u001b[0m df['user.name'] = cz.text_list_cleaner(\n\u001b[0;32m      3\u001b[0m     \u001b[0mdf\u001b[0m\u001b[1;33m[\u001b[0m\u001b[1;34m'user.name'\u001b[0m\u001b[1;33m]\u001b[0m\u001b[1;33m.\u001b[0m\u001b[0mcopy\u001b[0m\u001b[1;33m(\u001b[0m\u001b[1;33m)\u001b[0m\u001b[1;33m,\u001b[0m\u001b[1;33m\u001b[0m\u001b[1;33m\u001b[0m\u001b[0m\n\u001b[1;32m----> 4\u001b[1;33m     twitter_dict) # space out emojis and hastags.\n\u001b[0m\u001b[0;32m      5\u001b[0m \u001b[0mprint\u001b[0m\u001b[1;33m(\u001b[0m\u001b[1;34m'after:'\u001b[0m\u001b[1;33m,\u001b[0m \u001b[0mdf\u001b[0m\u001b[1;33m[\u001b[0m\u001b[1;34m'user.name'\u001b[0m\u001b[1;33m]\u001b[0m\u001b[1;33m[\u001b[0m\u001b[1;36m1\u001b[0m\u001b[1;33m]\u001b[0m\u001b[1;33m)\u001b[0m\u001b[1;33m\u001b[0m\u001b[1;33m\u001b[0m\u001b[0m\n",
      "\u001b[1;32m~\\Desktop\\Projects\\Capstone_project\\notebooks\\pleiades.py\u001b[0m in \u001b[0;36mtext_list_cleaner\u001b[1;34m(self, text_list, sep, inplace, *args)\u001b[0m\n\u001b[0;32m    137\u001b[0m                 \u001b[1;32melif\u001b[0m \u001b[0misinstance\u001b[0m\u001b[1;33m(\u001b[0m\u001b[0marg\u001b[0m\u001b[1;33m,\u001b[0m \u001b[0mdict\u001b[0m\u001b[1;33m)\u001b[0m\u001b[1;33m:\u001b[0m\u001b[1;33m\u001b[0m\u001b[1;33m\u001b[0m\u001b[0m\n\u001b[0;32m    138\u001b[0m                     \u001b[1;32mfor\u001b[0m \u001b[0mk\u001b[0m\u001b[1;33m,\u001b[0m \u001b[0mv\u001b[0m \u001b[1;32min\u001b[0m \u001b[0marg\u001b[0m\u001b[1;33m.\u001b[0m\u001b[0mitems\u001b[0m\u001b[1;33m(\u001b[0m\u001b[1;33m)\u001b[0m\u001b[1;33m:\u001b[0m\u001b[1;33m\u001b[0m\u001b[1;33m\u001b[0m\u001b[0m\n\u001b[1;32m--> 139\u001b[1;33m                         \u001b[0mtext_list\u001b[0m\u001b[1;33m[\u001b[0m\u001b[0mi\u001b[0m\u001b[1;33m]\u001b[0m \u001b[1;33m=\u001b[0m \u001b[0mre\u001b[0m\u001b[1;33m.\u001b[0m\u001b[0msub\u001b[0m\u001b[1;33m(\u001b[0m\u001b[0mk\u001b[0m\u001b[1;33m,\u001b[0m \u001b[0mv\u001b[0m\u001b[1;33m,\u001b[0m \u001b[0mtext_list\u001b[0m\u001b[1;33m[\u001b[0m\u001b[0mi\u001b[0m\u001b[1;33m]\u001b[0m\u001b[1;33m)\u001b[0m\u001b[1;33m\u001b[0m\u001b[1;33m\u001b[0m\u001b[0m\n\u001b[0m\u001b[0;32m    140\u001b[0m                 \u001b[1;31m# Removes all words passed as a list.\u001b[0m\u001b[1;33m\u001b[0m\u001b[1;33m\u001b[0m\u001b[1;33m\u001b[0m\u001b[0m\n\u001b[0;32m    141\u001b[0m                 \u001b[1;32melif\u001b[0m \u001b[1;32mnot\u001b[0m \u001b[0misinstance\u001b[0m\u001b[1;33m(\u001b[0m\u001b[0marg\u001b[0m\u001b[1;33m,\u001b[0m \u001b[0mstr\u001b[0m\u001b[1;33m)\u001b[0m\u001b[1;33m:\u001b[0m\u001b[1;33m\u001b[0m\u001b[1;33m\u001b[0m\u001b[0m\n",
      "\u001b[1;32m~\\.conda\\envs\\test\\lib\\re.py\u001b[0m in \u001b[0;36msub\u001b[1;34m(pattern, repl, string, count, flags)\u001b[0m\n\u001b[0;32m    190\u001b[0m     \u001b[0ma\u001b[0m \u001b[0mcallable\u001b[0m\u001b[1;33m,\u001b[0m \u001b[0mit\u001b[0m\u001b[0;31m'\u001b[0m\u001b[0ms\u001b[0m \u001b[0mpassed\u001b[0m \u001b[0mthe\u001b[0m \u001b[0mMatch\u001b[0m \u001b[0mobject\u001b[0m \u001b[1;32mand\u001b[0m \u001b[0mmust\u001b[0m \u001b[1;32mreturn\u001b[0m\u001b[1;33m\u001b[0m\u001b[1;33m\u001b[0m\u001b[0m\n\u001b[0;32m    191\u001b[0m     a replacement string to be used.\"\"\"\n\u001b[1;32m--> 192\u001b[1;33m     \u001b[1;32mreturn\u001b[0m \u001b[0m_compile\u001b[0m\u001b[1;33m(\u001b[0m\u001b[0mpattern\u001b[0m\u001b[1;33m,\u001b[0m \u001b[0mflags\u001b[0m\u001b[1;33m)\u001b[0m\u001b[1;33m.\u001b[0m\u001b[0msub\u001b[0m\u001b[1;33m(\u001b[0m\u001b[0mrepl\u001b[0m\u001b[1;33m,\u001b[0m \u001b[0mstring\u001b[0m\u001b[1;33m,\u001b[0m \u001b[0mcount\u001b[0m\u001b[1;33m)\u001b[0m\u001b[1;33m\u001b[0m\u001b[1;33m\u001b[0m\u001b[0m\n\u001b[0m\u001b[0;32m    193\u001b[0m \u001b[1;33m\u001b[0m\u001b[0m\n\u001b[0;32m    194\u001b[0m \u001b[1;32mdef\u001b[0m \u001b[0msubn\u001b[0m\u001b[1;33m(\u001b[0m\u001b[0mpattern\u001b[0m\u001b[1;33m,\u001b[0m \u001b[0mrepl\u001b[0m\u001b[1;33m,\u001b[0m \u001b[0mstring\u001b[0m\u001b[1;33m,\u001b[0m \u001b[0mcount\u001b[0m\u001b[1;33m=\u001b[0m\u001b[1;36m0\u001b[0m\u001b[1;33m,\u001b[0m \u001b[0mflags\u001b[0m\u001b[1;33m=\u001b[0m\u001b[1;36m0\u001b[0m\u001b[1;33m)\u001b[0m\u001b[1;33m:\u001b[0m\u001b[1;33m\u001b[0m\u001b[1;33m\u001b[0m\u001b[0m\n",
      "\u001b[1;32m~\\.conda\\envs\\test\\lib\\re.py\u001b[0m in \u001b[0;36m_compile\u001b[1;34m(pattern, flags)\u001b[0m\n\u001b[0;32m    284\u001b[0m     \u001b[1;32mif\u001b[0m \u001b[1;32mnot\u001b[0m \u001b[0msre_compile\u001b[0m\u001b[1;33m.\u001b[0m\u001b[0misstring\u001b[0m\u001b[1;33m(\u001b[0m\u001b[0mpattern\u001b[0m\u001b[1;33m)\u001b[0m\u001b[1;33m:\u001b[0m\u001b[1;33m\u001b[0m\u001b[1;33m\u001b[0m\u001b[0m\n\u001b[0;32m    285\u001b[0m         \u001b[1;32mraise\u001b[0m \u001b[0mTypeError\u001b[0m\u001b[1;33m(\u001b[0m\u001b[1;34m\"first argument must be string or compiled pattern\"\u001b[0m\u001b[1;33m)\u001b[0m\u001b[1;33m\u001b[0m\u001b[1;33m\u001b[0m\u001b[0m\n\u001b[1;32m--> 286\u001b[1;33m     \u001b[0mp\u001b[0m \u001b[1;33m=\u001b[0m \u001b[0msre_compile\u001b[0m\u001b[1;33m.\u001b[0m\u001b[0mcompile\u001b[0m\u001b[1;33m(\u001b[0m\u001b[0mpattern\u001b[0m\u001b[1;33m,\u001b[0m \u001b[0mflags\u001b[0m\u001b[1;33m)\u001b[0m\u001b[1;33m\u001b[0m\u001b[1;33m\u001b[0m\u001b[0m\n\u001b[0m\u001b[0;32m    287\u001b[0m     \u001b[1;32mif\u001b[0m \u001b[1;32mnot\u001b[0m \u001b[1;33m(\u001b[0m\u001b[0mflags\u001b[0m \u001b[1;33m&\u001b[0m \u001b[0mDEBUG\u001b[0m\u001b[1;33m)\u001b[0m\u001b[1;33m:\u001b[0m\u001b[1;33m\u001b[0m\u001b[1;33m\u001b[0m\u001b[0m\n\u001b[0;32m    288\u001b[0m         \u001b[1;32mif\u001b[0m \u001b[0mlen\u001b[0m\u001b[1;33m(\u001b[0m\u001b[0m_cache\u001b[0m\u001b[1;33m)\u001b[0m \u001b[1;33m>=\u001b[0m \u001b[0m_MAXCACHE\u001b[0m\u001b[1;33m:\u001b[0m\u001b[1;33m\u001b[0m\u001b[1;33m\u001b[0m\u001b[0m\n",
      "\u001b[1;32m~\\.conda\\envs\\test\\lib\\sre_compile.py\u001b[0m in \u001b[0;36mcompile\u001b[1;34m(p, flags)\u001b[0m\n\u001b[0;32m    762\u001b[0m     \u001b[1;32mif\u001b[0m \u001b[0misstring\u001b[0m\u001b[1;33m(\u001b[0m\u001b[0mp\u001b[0m\u001b[1;33m)\u001b[0m\u001b[1;33m:\u001b[0m\u001b[1;33m\u001b[0m\u001b[1;33m\u001b[0m\u001b[0m\n\u001b[0;32m    763\u001b[0m         \u001b[0mpattern\u001b[0m \u001b[1;33m=\u001b[0m \u001b[0mp\u001b[0m\u001b[1;33m\u001b[0m\u001b[1;33m\u001b[0m\u001b[0m\n\u001b[1;32m--> 764\u001b[1;33m         \u001b[0mp\u001b[0m \u001b[1;33m=\u001b[0m \u001b[0msre_parse\u001b[0m\u001b[1;33m.\u001b[0m\u001b[0mparse\u001b[0m\u001b[1;33m(\u001b[0m\u001b[0mp\u001b[0m\u001b[1;33m,\u001b[0m \u001b[0mflags\u001b[0m\u001b[1;33m)\u001b[0m\u001b[1;33m\u001b[0m\u001b[1;33m\u001b[0m\u001b[0m\n\u001b[0m\u001b[0;32m    765\u001b[0m     \u001b[1;32melse\u001b[0m\u001b[1;33m:\u001b[0m\u001b[1;33m\u001b[0m\u001b[1;33m\u001b[0m\u001b[0m\n\u001b[0;32m    766\u001b[0m         \u001b[0mpattern\u001b[0m \u001b[1;33m=\u001b[0m \u001b[1;32mNone\u001b[0m\u001b[1;33m\u001b[0m\u001b[1;33m\u001b[0m\u001b[0m\n",
      "\u001b[1;32m~\\.conda\\envs\\test\\lib\\sre_parse.py\u001b[0m in \u001b[0;36mparse\u001b[1;34m(str, flags, pattern)\u001b[0m\n\u001b[0;32m    928\u001b[0m \u001b[1;33m\u001b[0m\u001b[0m\n\u001b[0;32m    929\u001b[0m     \u001b[1;32mtry\u001b[0m\u001b[1;33m:\u001b[0m\u001b[1;33m\u001b[0m\u001b[1;33m\u001b[0m\u001b[0m\n\u001b[1;32m--> 930\u001b[1;33m         \u001b[0mp\u001b[0m \u001b[1;33m=\u001b[0m \u001b[0m_parse_sub\u001b[0m\u001b[1;33m(\u001b[0m\u001b[0msource\u001b[0m\u001b[1;33m,\u001b[0m \u001b[0mpattern\u001b[0m\u001b[1;33m,\u001b[0m \u001b[0mflags\u001b[0m \u001b[1;33m&\u001b[0m \u001b[0mSRE_FLAG_VERBOSE\u001b[0m\u001b[1;33m,\u001b[0m \u001b[1;36m0\u001b[0m\u001b[1;33m)\u001b[0m\u001b[1;33m\u001b[0m\u001b[1;33m\u001b[0m\u001b[0m\n\u001b[0m\u001b[0;32m    931\u001b[0m     \u001b[1;32mexcept\u001b[0m \u001b[0mVerbose\u001b[0m\u001b[1;33m:\u001b[0m\u001b[1;33m\u001b[0m\u001b[1;33m\u001b[0m\u001b[0m\n\u001b[0;32m    932\u001b[0m         \u001b[1;31m# the VERBOSE flag was switched on inside the pattern.  to be\u001b[0m\u001b[1;33m\u001b[0m\u001b[1;33m\u001b[0m\u001b[1;33m\u001b[0m\u001b[0m\n",
      "\u001b[1;32m~\\.conda\\envs\\test\\lib\\sre_parse.py\u001b[0m in \u001b[0;36m_parse_sub\u001b[1;34m(source, state, verbose, nested)\u001b[0m\n\u001b[0;32m    424\u001b[0m     \u001b[1;32mwhile\u001b[0m \u001b[1;32mTrue\u001b[0m\u001b[1;33m:\u001b[0m\u001b[1;33m\u001b[0m\u001b[1;33m\u001b[0m\u001b[0m\n\u001b[0;32m    425\u001b[0m         itemsappend(_parse(source, state, verbose, nested + 1,\n\u001b[1;32m--> 426\u001b[1;33m                            not nested and not items))\n\u001b[0m\u001b[0;32m    427\u001b[0m         \u001b[1;32mif\u001b[0m \u001b[1;32mnot\u001b[0m \u001b[0msourcematch\u001b[0m\u001b[1;33m(\u001b[0m\u001b[1;34m\"|\"\u001b[0m\u001b[1;33m)\u001b[0m\u001b[1;33m:\u001b[0m\u001b[1;33m\u001b[0m\u001b[1;33m\u001b[0m\u001b[0m\n\u001b[0;32m    428\u001b[0m             \u001b[1;32mbreak\u001b[0m\u001b[1;33m\u001b[0m\u001b[1;33m\u001b[0m\u001b[0m\n",
      "\u001b[1;32m~\\.conda\\envs\\test\\lib\\sre_parse.py\u001b[0m in \u001b[0;36m_parse\u001b[1;34m(source, state, verbose, nested, first)\u001b[0m\n\u001b[0;32m    814\u001b[0m             sub_verbose = ((verbose or (add_flags & SRE_FLAG_VERBOSE)) and\n\u001b[0;32m    815\u001b[0m                            not (del_flags & SRE_FLAG_VERBOSE))\n\u001b[1;32m--> 816\u001b[1;33m             \u001b[0mp\u001b[0m \u001b[1;33m=\u001b[0m \u001b[0m_parse_sub\u001b[0m\u001b[1;33m(\u001b[0m\u001b[0msource\u001b[0m\u001b[1;33m,\u001b[0m \u001b[0mstate\u001b[0m\u001b[1;33m,\u001b[0m \u001b[0msub_verbose\u001b[0m\u001b[1;33m,\u001b[0m \u001b[0mnested\u001b[0m \u001b[1;33m+\u001b[0m \u001b[1;36m1\u001b[0m\u001b[1;33m)\u001b[0m\u001b[1;33m\u001b[0m\u001b[1;33m\u001b[0m\u001b[0m\n\u001b[0m\u001b[0;32m    817\u001b[0m             \u001b[1;32mif\u001b[0m \u001b[1;32mnot\u001b[0m \u001b[0msource\u001b[0m\u001b[1;33m.\u001b[0m\u001b[0mmatch\u001b[0m\u001b[1;33m(\u001b[0m\u001b[1;34m\")\"\u001b[0m\u001b[1;33m)\u001b[0m\u001b[1;33m:\u001b[0m\u001b[1;33m\u001b[0m\u001b[1;33m\u001b[0m\u001b[0m\n\u001b[0;32m    818\u001b[0m                 raise source.error(\"missing ), unterminated subpattern\",\n",
      "\u001b[1;32m~\\.conda\\envs\\test\\lib\\sre_parse.py\u001b[0m in \u001b[0;36m_parse_sub\u001b[1;34m(source, state, verbose, nested)\u001b[0m\n\u001b[0;32m    424\u001b[0m     \u001b[1;32mwhile\u001b[0m \u001b[1;32mTrue\u001b[0m\u001b[1;33m:\u001b[0m\u001b[1;33m\u001b[0m\u001b[1;33m\u001b[0m\u001b[0m\n\u001b[0;32m    425\u001b[0m         itemsappend(_parse(source, state, verbose, nested + 1,\n\u001b[1;32m--> 426\u001b[1;33m                            not nested and not items))\n\u001b[0m\u001b[0;32m    427\u001b[0m         \u001b[1;32mif\u001b[0m \u001b[1;32mnot\u001b[0m \u001b[0msourcematch\u001b[0m\u001b[1;33m(\u001b[0m\u001b[1;34m\"|\"\u001b[0m\u001b[1;33m)\u001b[0m\u001b[1;33m:\u001b[0m\u001b[1;33m\u001b[0m\u001b[1;33m\u001b[0m\u001b[0m\n\u001b[0;32m    428\u001b[0m             \u001b[1;32mbreak\u001b[0m\u001b[1;33m\u001b[0m\u001b[1;33m\u001b[0m\u001b[0m\n",
      "\u001b[1;32m~\\.conda\\envs\\test\\lib\\sre_parse.py\u001b[0m in \u001b[0;36m_parse\u001b[1;34m(source, state, verbose, nested, first)\u001b[0m\n\u001b[0;32m    649\u001b[0m             \u001b[1;32mif\u001b[0m \u001b[1;32mnot\u001b[0m \u001b[0mitem\u001b[0m \u001b[1;32mor\u001b[0m \u001b[0mitem\u001b[0m\u001b[1;33m[\u001b[0m\u001b[1;36m0\u001b[0m\u001b[1;33m]\u001b[0m\u001b[1;33m[\u001b[0m\u001b[1;36m0\u001b[0m\u001b[1;33m]\u001b[0m \u001b[1;32mis\u001b[0m \u001b[0mAT\u001b[0m\u001b[1;33m:\u001b[0m\u001b[1;33m\u001b[0m\u001b[1;33m\u001b[0m\u001b[0m\n\u001b[0;32m    650\u001b[0m                 raise source.error(\"nothing to repeat\",\n\u001b[1;32m--> 651\u001b[1;33m                                    source.tell() - here + len(this))\n\u001b[0m\u001b[0;32m    652\u001b[0m             \u001b[1;32mif\u001b[0m \u001b[0mitem\u001b[0m\u001b[1;33m[\u001b[0m\u001b[1;36m0\u001b[0m\u001b[1;33m]\u001b[0m\u001b[1;33m[\u001b[0m\u001b[1;36m0\u001b[0m\u001b[1;33m]\u001b[0m \u001b[1;32min\u001b[0m \u001b[0m_REPEATCODES\u001b[0m\u001b[1;33m:\u001b[0m\u001b[1;33m\u001b[0m\u001b[1;33m\u001b[0m\u001b[0m\n\u001b[0;32m    653\u001b[0m                 raise source.error(\"multiple repeat\",\n",
      "\u001b[1;31merror\u001b[0m: nothing to repeat at position 2740"
     ]
    }
   ],
   "source": [
    "print('before:', df['user.name'][1])\n",
    "df['user.name'] = cz.text_list_cleaner(\n",
    "    df['user.name'].copy(),\n",
    "    twitter_dict) # space out emojis and hastags.\n",
    "print('after:', df['user.name'][1])"
   ]
  },
  {
   "cell_type": "code",
   "execution_count": null,
   "metadata": {},
   "outputs": [],
   "source": []
  },
  {
   "cell_type": "code",
   "execution_count": null,
   "metadata": {},
   "outputs": [],
   "source": []
  },
  {
   "cell_type": "code",
   "execution_count": null,
   "metadata": {},
   "outputs": [],
   "source": []
  },
  {
   "cell_type": "code",
   "execution_count": 8,
   "metadata": {},
   "outputs": [],
   "source": [
    "emoji_path = r'..\\data\\emojis.json'\n",
    "with open(emoji_path) as f:\n",
    "    emojis = json.load(f)\n",
    "re_emojis = '|'.join(emojis)"
   ]
  },
  {
   "cell_type": "code",
   "execution_count": 9,
   "metadata": {},
   "outputs": [],
   "source": [
    "emoji_pattern = '(' + '|'.join(emojis) + ')'\n",
    "hastag_pattern = r'(#\\w+\\b)'\n",
    "hastag_seperator = r'#([0-9A-Z]+[a-z]*)+'\n",
    "\n",
    "twitter_dict = {\n",
    "    emoji_pattern: r' \\1 ',\n",
    "    hastag_pattern: r' \\1 ',\n",
    "}"
   ]
  },
  {
   "cell_type": "code",
   "execution_count": 11,
   "metadata": {},
   "outputs": [],
   "source": [
    "replacement = 'genderpronouns'\n",
    "pronoun_dict = {k: replacement for k in cz.re_ref['gender_pronouns']}"
   ]
  },
  {
   "cell_type": "code",
   "execution_count": 12,
   "metadata": {},
   "outputs": [
    {
     "name": "stdout",
     "output_type": "stream",
     "text": [
      "before: 🇺🇸Michael Hays🇺🇸\n",
      "after:  🇺🇸 Michael Hays 🇺🇸 \n"
     ]
    },
    {
     "name": "stderr",
     "output_type": "stream",
     "text": [
      "C:\\Users\\admin\\.conda\\envs\\test\\lib\\site-packages\\ipykernel_launcher.py:8: SettingWithCopyWarning: \n",
      "A value is trying to be set on a copy of a slice from a DataFrame.\n",
      "Try using .loc[row_indexer,col_indexer] = value instead\n",
      "\n",
      "See the caveats in the documentation: http://pandas.pydata.org/pandas-docs/stable/user_guide/indexing.html#returning-a-view-versus-a-copy\n",
      "  \n"
     ]
    }
   ],
   "source": [
    "print('before:', df['user.name'][1])\n",
    "df['user.name'] = cz.text_list_cleaner(\n",
    "    df['user.name'].copy(),\n",
    "    cz.contractions, # remove contractions.\n",
    "    cz.re_ref['email'], # remove emails.\n",
    "    cz.re_ref['links'], # remove links.\n",
    "    pronoun_dict, # condense gender pronouns.\n",
    "    twitter_dict) # space out emojis and hastags.\n",
    "print('after:', df['user.name'][1])"
   ]
  },
  {
   "cell_type": "markdown",
   "metadata": {},
   "source": [
    "Remove all non hastag and emojis text from names."
   ]
  },
  {
   "cell_type": "code",
   "execution_count": 19,
   "metadata": {},
   "outputs": [],
   "source": [
    "for i, sentence in enumerate(df['user.name']):\n",
    "    words = sentence.split()\n",
    "    clean_sentence = ''\n",
    "    for word in words:\n",
    "        if re.match(emoji_pattern, word):\n",
    "            clean_sentence = clean_sentence + ' ' + word\n",
    "        elif re.match(hastag_pattern, word):\n",
    "            word = re.sub('#', '', word)\n",
    "            splitted = re.sub('([A-Z][a-z]+)', r' \\1', re.sub('([0-9A-Z]+)', r' \\1', word)).split()\n",
    "            clean_sentence = clean_sentence + ' ' + ' '.join(splitted)\n",
    "    df['user.name'][i] = clean_sentence\n"
   ]
  },
  {
   "cell_type": "code",
   "execution_count": 22,
   "metadata": {
    "scrolled": true
   },
   "outputs": [
    {
     "name": "stderr",
     "output_type": "stream",
     "text": [
      "C:\\Users\\admin\\.conda\\envs\\test\\lib\\site-packages\\ipykernel_launcher.py:2: SettingWithCopyWarning: \n",
      "A value is trying to be set on a copy of a slice from a DataFrame.\n",
      "Try using .loc[row_indexer,col_indexer] = value instead\n",
      "\n",
      "See the caveats in the documentation: http://pandas.pydata.org/pandas-docs/stable/user_guide/indexing.html#returning-a-view-versus-a-copy\n",
      "  \n"
     ]
    }
   ],
   "source": [
    "# Remove punctuation.\n",
    "df['user.name'] = cz.text_list_cleaner(df['user.name'].copy(), cz.remove_punctuation)"
   ]
  },
  {
   "cell_type": "markdown",
   "metadata": {},
   "source": [
    "Now to process user descriptions."
   ]
  },
  {
   "cell_type": "code",
   "execution_count": null,
   "metadata": {},
   "outputs": [],
   "source": [
    "print('before:', df['user.description'][1])\n",
    "df['user.description'] = cz.text_list_cleaner(\n",
    "    df['user.description'].copy(),\n",
    "    cz.contractions, # remove contractions.\n",
    "    cz.re_ref['email'], # remove emails.\n",
    "    cz.re_ref['links'], # remove links.\n",
    "    pronoun_dict, # condense gender pronouns.\n",
    "    twitter_dict) # space out emojis and hastags.\n",
    "print('after:', df['user.description'][1])"
   ]
  },
  {
   "cell_type": "code",
   "execution_count": null,
   "metadata": {},
   "outputs": [],
   "source": []
  },
  {
   "cell_type": "code",
   "execution_count": 33,
   "metadata": {},
   "outputs": [],
   "source": [
    "df_test = df[['user.description']]"
   ]
  },
  {
   "cell_type": "code",
   "execution_count": 34,
   "metadata": {},
   "outputs": [
    {
     "name": "stdout",
     "output_type": "stream",
     "text": [
      "before: Red Blooded!! All American!! 🌾Heartland born & raised. ⭐️ #MAGA #KAG2020 ⭐️\n",
      "after: Red Blooded!! All American!!  🌾 Heartland born & raised.  ⭐  ️   #MAGA   #KAG2020   ⭐  ️ \n"
     ]
    },
    {
     "name": "stderr",
     "output_type": "stream",
     "text": [
      "C:\\Users\\admin\\.conda\\envs\\test\\lib\\site-packages\\ipykernel_launcher.py:8: SettingWithCopyWarning: \n",
      "A value is trying to be set on a copy of a slice from a DataFrame.\n",
      "Try using .loc[row_indexer,col_indexer] = value instead\n",
      "\n",
      "See the caveats in the documentation: http://pandas.pydata.org/pandas-docs/stable/user_guide/indexing.html#returning-a-view-versus-a-copy\n",
      "  \n"
     ]
    }
   ],
   "source": [
    "print('before:', df_test['user.description'][1])\n",
    "df_test['user.description'] = cz.text_list_cleaner(\n",
    "    df_test['user.description'].copy(),\n",
    "    cz.contractions, # remove contractions.\n",
    "    cz.re_ref['email'], # remove emails.\n",
    "    cz.re_ref['links'], # remove links.\n",
    "    pronoun_dict, # condense gender pronouns.\n",
    "    twitter_dict) # space out emojis and hastags.\n",
    "print('after:', df_test['user.description'][1])"
   ]
  },
  {
   "cell_type": "code",
   "execution_count": 35,
   "metadata": {},
   "outputs": [],
   "source": [
    "for i, sentence in enumerate(df_test['user.description']):\n",
    "    words = sentence.split()\n",
    "    clean_sentence = ''\n",
    "    for word in words:\n",
    "        if re.match(hastag_pattern, word):\n",
    "            word = re.sub('#', '', word)\n",
    "            splitted = re.sub('([A-Z][a-z]+)', r' \\1', re.sub('([0-9A-Z]+)', r' \\1', word)).split()\n",
    "            clean_sentence = clean_sentence + ' ' + ' '.join(splitted)\n",
    "        else:\n",
    "            clean_sentence = clean_sentence + ' ' + word\n",
    "    df_test['user.description'][i] = clean_sentence"
   ]
  },
  {
   "cell_type": "code",
   "execution_count": 39,
   "metadata": {},
   "outputs": [
    {
     "data": {
      "text/plain": [
       "0                                                        \n",
       "1        Red Blooded!! All American!! 🌾 Heartland born...\n",
       "2        Indian singer. Army brat. Muay Thai panda. Ho...\n",
       "3        Christian, SC Gamecocks , College Football, O...\n",
       "4        Mother of 3 Amma to 3 love my kids, love my g...\n",
       "                              ...                        \n",
       "8376                             Always Half-in Half-Out.\n",
       "8377                    Nothing happens after you die....\n",
       "8378     ACTOR. Writer|Producer. Luso|Latinx. Educator...\n",
       "8379                                            ✌ 🏻 ❤ ️ 🌻\n",
       "8380     Founding Partner, MirRam Group; Publisher, Ma...\n",
       "Name: user.description, Length: 8381, dtype: object"
      ]
     },
     "execution_count": 39,
     "metadata": {},
     "output_type": "execute_result"
    }
   ],
   "source": [
    "df_test['user.description']"
   ]
  },
  {
   "cell_type": "code",
   "execution_count": 40,
   "metadata": {},
   "outputs": [
    {
     "name": "stderr",
     "output_type": "stream",
     "text": [
      "C:\\Users\\admin\\.conda\\envs\\test\\lib\\site-packages\\ipykernel_launcher.py:2: SettingWithCopyWarning: \n",
      "A value is trying to be set on a copy of a slice from a DataFrame.\n",
      "Try using .loc[row_indexer,col_indexer] = value instead\n",
      "\n",
      "See the caveats in the documentation: http://pandas.pydata.org/pandas-docs/stable/user_guide/indexing.html#returning-a-view-versus-a-copy\n",
      "  \n"
     ]
    }
   ],
   "source": [
    "# Remove punctuation.\n",
    "df_test['user.description'] = cz.text_list_cleaner(df_test['user.description'].copy(), cz.remove_punctuation)"
   ]
  },
  {
   "cell_type": "code",
   "execution_count": 41,
   "metadata": {},
   "outputs": [
    {
     "data": {
      "text/plain": [
       "0                                                        \n",
       "1        Red Blooded!! All American!! 🌾 Heartland born...\n",
       "2        Indian singer. Army brat. Muay Thai panda. Ho...\n",
       "3        Christian, SC Gamecocks , College Football, O...\n",
       "4        Mother of 3 Amma to 3 love my kids, love my g...\n",
       "                              ...                        \n",
       "8376                             Always Half-in Half-Out.\n",
       "8377                    Nothing happens after you die....\n",
       "8378     ACTOR. Writer|Producer. Luso|Latinx. Educator...\n",
       "8379                                            ✌ 🏻 ❤ ️ 🌻\n",
       "8380     Founding Partner, MirRam Group; Publisher, Ma...\n",
       "Name: user.description, Length: 8381, dtype: object"
      ]
     },
     "execution_count": 41,
     "metadata": {},
     "output_type": "execute_result"
    }
   ],
   "source": [
    "df_test['user.description']"
   ]
  },
  {
   "cell_type": "code",
   "execution_count": null,
   "metadata": {},
   "outputs": [],
   "source": []
  },
  {
   "cell_type": "code",
   "execution_count": null,
   "metadata": {},
   "outputs": [],
   "source": []
  },
  {
   "cell_type": "code",
   "execution_count": null,
   "metadata": {},
   "outputs": [],
   "source": []
  },
  {
   "cell_type": "code",
   "execution_count": null,
   "metadata": {},
   "outputs": [],
   "source": []
  },
  {
   "cell_type": "code",
   "execution_count": null,
   "metadata": {},
   "outputs": [],
   "source": []
  },
  {
   "cell_type": "code",
   "execution_count": 13,
   "metadata": {},
   "outputs": [],
   "source": [
    "import string"
   ]
  },
  {
   "cell_type": "code",
   "execution_count": null,
   "metadata": {},
   "outputs": [],
   "source": []
  },
  {
   "cell_type": "code",
   "execution_count": null,
   "metadata": {},
   "outputs": [],
   "source": []
  },
  {
   "cell_type": "code",
   "execution_count": null,
   "metadata": {},
   "outputs": [],
   "source": []
  },
  {
   "cell_type": "code",
   "execution_count": null,
   "metadata": {},
   "outputs": [],
   "source": []
  },
  {
   "cell_type": "code",
   "execution_count": 14,
   "metadata": {},
   "outputs": [
    {
     "data": {
      "text/plain": [
       "'0123456789abcdefghijklmnopqrstuvwxyzABCDEFGHIJKLMNOPQRSTUVWXYZ!\"#$%&\\'()*+,-./:;<=>?@[\\\\]^_`{|}~ \\t\\n\\r\\x0b\\x0c'"
      ]
     },
     "execution_count": 14,
     "metadata": {},
     "output_type": "execute_result"
    }
   ],
   "source": [
    "string.printable"
   ]
  },
  {
   "cell_type": "code",
   "execution_count": null,
   "metadata": {},
   "outputs": [],
   "source": [
    "r'[!\"#$%&\\'()*+,-./:;<=>?@[\\\\]^_`{|}~]'"
   ]
  },
  {
   "cell_type": "code",
   "execution_count": null,
   "metadata": {},
   "outputs": [],
   "source": []
  },
  {
   "cell_type": "code",
   "execution_count": 50,
   "metadata": {},
   "outputs": [
    {
     "data": {
      "text/plain": [
       "'Indian singer. Army brat. Muay Thai panda. Horse-rider. Traveller. Sole keeper of Zephan. For bookings contact@manasiscott.com | https://t.co/MU3LedSHkC'"
      ]
     },
     "execution_count": 50,
     "metadata": {},
     "output_type": "execute_result"
    }
   ],
   "source": [
    "X = data['user.description'][0:3]\n",
    "X[2]"
   ]
  },
  {
   "cell_type": "code",
   "execution_count": 36,
   "metadata": {},
   "outputs": [],
   "source": [
    "emoji_path = r'..\\data\\emojis.json'\n",
    "with open(emoji_path) as f:\n",
    "    emojis = json.load(f)"
   ]
  },
  {
   "cell_type": "code",
   "execution_count": 37,
   "metadata": {},
   "outputs": [],
   "source": [
    "re_emojis = '|'.join(emojis)"
   ]
  },
  {
   "cell_type": "code",
   "execution_count": 38,
   "metadata": {},
   "outputs": [],
   "source": [
    "emoji_pattern = '(' + '|'.join(emojis) + ')'\n",
    "hastag_pattern = r'(#\\w+\\b)'"
   ]
  },
  {
   "cell_type": "code",
   "execution_count": null,
   "metadata": {},
   "outputs": [],
   "source": [
    "replacement = 'gender_pronouns'\n",
    "pronouns_dict = {\n",
    "    r'[hH]e/[hH]im': replacement,\n",
    "    r'[sS]he/[hH]er': replacement,\n",
    "    r'[hH]e/[hH]im': replacement,\n",
    "    r'[hH]e/[hH]im': replacement,\n",
    "    r'[hH]e/[hH]im': replacement,\n",
    "}"
   ]
  },
  {
   "cell_type": "code",
   "execution_count": 39,
   "metadata": {},
   "outputs": [],
   "source": [
    "twitter_dict = {\n",
    "    emoji_pattern: r' \\1 ',\n",
    "    hastag_pattern: r' \\1 ',\n",
    "    r'born'\n",
    "}"
   ]
  },
  {
   "cell_type": "code",
   "execution_count": 40,
   "metadata": {},
   "outputs": [
    {
     "name": "stdout",
     "output_type": "stream",
     "text": [
      "before: Red Blooded!! All American!! 🌾Heartland born & raised. ⭐️ #MAGA #KAG2020 ⭐️\n",
      "after: Red Blooded!! All American!!  🌾 Heartland born & raised.  ⭐  ️   #MAGA  #KAG2020  ⭐  ️ \n"
     ]
    }
   ],
   "source": [
    "print('before:', X[1])\n",
    "X = cz.text_list_cleaner(X, twitter_dict)\n",
    "print('after:', X[1])"
   ]
  },
  {
   "cell_type": "code",
   "execution_count": 42,
   "metadata": {},
   "outputs": [],
   "source": [
    "from sklearn.feature_extraction.text import CountVectorizer"
   ]
  },
  {
   "cell_type": "code",
   "execution_count": null,
   "metadata": {},
   "outputs": [],
   "source": []
  },
  {
   "cell_type": "code",
   "execution_count": 51,
   "metadata": {},
   "outputs": [
    {
     "name": "stdout",
     "output_type": "stream",
     "text": [
      "CountVectorizer:\n",
      "⭐️                         2\n",
      "🌾heartland                 1\n",
      "https://t.co/mu3ledshkc    1\n",
      "#maga                      1\n",
      "&                          1\n",
      "all                        1\n",
      "american!!                 1\n",
      "army                       1\n",
      "blooded!!                  1\n",
      "bookings                   1\n",
      "born                       1\n",
      "brat.                      1\n",
      "contact@manasiscott.com    1\n",
      "for                        1\n",
      "horse-rider.               1\n",
      "indian                     1\n",
      "keeper                     1\n",
      "muay                       1\n",
      "of                         1\n",
      "panda.                     1\n",
      "raised.                    1\n",
      "red                        1\n",
      "singer.                    1\n",
      "sole                       1\n",
      "thai                       1\n",
      "traveller.                 1\n",
      "zephan.                    1\n",
      "|                          1\n",
      "#kag2020                   1\n",
      "dtype: int64\n",
      "\n"
     ]
    }
   ],
   "source": [
    "# cvec = CountVectorizer(max_df=0.5, max_features=3000, min_df=2,\n",
    "#                        ngram_range=(1, 2), stop_words='english')\n",
    "cvec = CountVectorizer(token_pattern=r'[^\\s]+')\n",
    "X_cvec = cvec.fit_transform(X)\n",
    "X_cvec = pd.DataFrame(X_cvec.toarray(), columns=cvec.get_feature_names())\n",
    "print('CountVectorizer:')\n",
    "print(X_cvec.sum().sort_values(ascending=False)[:])\n",
    "print()"
   ]
  },
  {
   "cell_type": "code",
   "execution_count": 52,
   "metadata": {},
   "outputs": [
    {
     "data": {
      "text/html": [
       "<div>\n",
       "<style scoped>\n",
       "    .dataframe tbody tr th:only-of-type {\n",
       "        vertical-align: middle;\n",
       "    }\n",
       "\n",
       "    .dataframe tbody tr th {\n",
       "        vertical-align: top;\n",
       "    }\n",
       "\n",
       "    .dataframe thead th {\n",
       "        text-align: right;\n",
       "    }\n",
       "</style>\n",
       "<table border=\"1\" class=\"dataframe\">\n",
       "  <thead>\n",
       "    <tr style=\"text-align: right;\">\n",
       "      <th></th>\n",
       "      <th>#kag2020</th>\n",
       "      <th>#maga</th>\n",
       "      <th>&amp;</th>\n",
       "      <th>all</th>\n",
       "      <th>american!!</th>\n",
       "      <th>army</th>\n",
       "      <th>blooded!!</th>\n",
       "      <th>bookings</th>\n",
       "      <th>born</th>\n",
       "      <th>brat.</th>\n",
       "      <th>contact@manasiscott.com</th>\n",
       "      <th>for</th>\n",
       "      <th>horse-rider.</th>\n",
       "      <th>https://t.co/mu3ledshkc</th>\n",
       "      <th>indian</th>\n",
       "      <th>keeper</th>\n",
       "      <th>muay</th>\n",
       "      <th>of</th>\n",
       "      <th>panda.</th>\n",
       "      <th>raised.</th>\n",
       "      <th>red</th>\n",
       "      <th>singer.</th>\n",
       "      <th>sole</th>\n",
       "      <th>thai</th>\n",
       "      <th>traveller.</th>\n",
       "      <th>zephan.</th>\n",
       "      <th>|</th>\n",
       "      <th>⭐️</th>\n",
       "      <th>🌾heartland</th>\n",
       "    </tr>\n",
       "  </thead>\n",
       "  <tbody>\n",
       "    <tr>\n",
       "      <td>0</td>\n",
       "      <td>0</td>\n",
       "      <td>0</td>\n",
       "      <td>0</td>\n",
       "      <td>0</td>\n",
       "      <td>0</td>\n",
       "      <td>0</td>\n",
       "      <td>0</td>\n",
       "      <td>0</td>\n",
       "      <td>0</td>\n",
       "      <td>0</td>\n",
       "      <td>0</td>\n",
       "      <td>0</td>\n",
       "      <td>0</td>\n",
       "      <td>0</td>\n",
       "      <td>0</td>\n",
       "      <td>0</td>\n",
       "      <td>0</td>\n",
       "      <td>0</td>\n",
       "      <td>0</td>\n",
       "      <td>0</td>\n",
       "      <td>0</td>\n",
       "      <td>0</td>\n",
       "      <td>0</td>\n",
       "      <td>0</td>\n",
       "      <td>0</td>\n",
       "      <td>0</td>\n",
       "      <td>0</td>\n",
       "      <td>0</td>\n",
       "      <td>0</td>\n",
       "    </tr>\n",
       "    <tr>\n",
       "      <td>1</td>\n",
       "      <td>1</td>\n",
       "      <td>1</td>\n",
       "      <td>1</td>\n",
       "      <td>1</td>\n",
       "      <td>1</td>\n",
       "      <td>0</td>\n",
       "      <td>1</td>\n",
       "      <td>0</td>\n",
       "      <td>1</td>\n",
       "      <td>0</td>\n",
       "      <td>0</td>\n",
       "      <td>0</td>\n",
       "      <td>0</td>\n",
       "      <td>0</td>\n",
       "      <td>0</td>\n",
       "      <td>0</td>\n",
       "      <td>0</td>\n",
       "      <td>0</td>\n",
       "      <td>0</td>\n",
       "      <td>1</td>\n",
       "      <td>1</td>\n",
       "      <td>0</td>\n",
       "      <td>0</td>\n",
       "      <td>0</td>\n",
       "      <td>0</td>\n",
       "      <td>0</td>\n",
       "      <td>0</td>\n",
       "      <td>2</td>\n",
       "      <td>1</td>\n",
       "    </tr>\n",
       "    <tr>\n",
       "      <td>2</td>\n",
       "      <td>0</td>\n",
       "      <td>0</td>\n",
       "      <td>0</td>\n",
       "      <td>0</td>\n",
       "      <td>0</td>\n",
       "      <td>1</td>\n",
       "      <td>0</td>\n",
       "      <td>1</td>\n",
       "      <td>0</td>\n",
       "      <td>1</td>\n",
       "      <td>1</td>\n",
       "      <td>1</td>\n",
       "      <td>1</td>\n",
       "      <td>1</td>\n",
       "      <td>1</td>\n",
       "      <td>1</td>\n",
       "      <td>1</td>\n",
       "      <td>1</td>\n",
       "      <td>1</td>\n",
       "      <td>0</td>\n",
       "      <td>0</td>\n",
       "      <td>1</td>\n",
       "      <td>1</td>\n",
       "      <td>1</td>\n",
       "      <td>1</td>\n",
       "      <td>1</td>\n",
       "      <td>1</td>\n",
       "      <td>0</td>\n",
       "      <td>0</td>\n",
       "    </tr>\n",
       "  </tbody>\n",
       "</table>\n",
       "</div>"
      ],
      "text/plain": [
       "   #kag2020  #maga  &  all  american!!  army  blooded!!  bookings  born  \\\n",
       "0         0      0  0    0           0     0          0         0     0   \n",
       "1         1      1  1    1           1     0          1         0     1   \n",
       "2         0      0  0    0           0     1          0         1     0   \n",
       "\n",
       "   brat.  contact@manasiscott.com  for  horse-rider.  https://t.co/mu3ledshkc  \\\n",
       "0      0                        0    0             0                        0   \n",
       "1      0                        0    0             0                        0   \n",
       "2      1                        1    1             1                        1   \n",
       "\n",
       "   indian  keeper  muay  of  panda.  raised.  red  singer.  sole  thai  \\\n",
       "0       0       0     0   0       0        0    0        0     0     0   \n",
       "1       0       0     0   0       0        1    1        0     0     0   \n",
       "2       1       1     1   1       1        0    0        1     1     1   \n",
       "\n",
       "   traveller.  zephan.  |  ⭐️  🌾heartland  \n",
       "0           0        0  0   0           0  \n",
       "1           0        0  0   2           1  \n",
       "2           1        1  1   0           0  "
      ]
     },
     "execution_count": 52,
     "metadata": {},
     "output_type": "execute_result"
    }
   ],
   "source": [
    "X_cvec"
   ]
  },
  {
   "cell_type": "code",
   "execution_count": null,
   "metadata": {},
   "outputs": [],
   "source": []
  },
  {
   "cell_type": "code",
   "execution_count": null,
   "metadata": {},
   "outputs": [],
   "source": []
  },
  {
   "cell_type": "code",
   "execution_count": null,
   "metadata": {},
   "outputs": [],
   "source": [
    "pipe = Pipeline([\n",
    "    ('tvec', TfidfVectorizer()),\n",
    "    ('dt', ExtraTreesClassifier(n_estimators=100))\n",
    "])\n",
    "params = {\n",
    "    'tvec__stop_words': ['english'],\n",
    "    'tvec__ngram_range': [(1, 1), (1, 2)],\n",
    "    'tvec__max_df': [.5, .7, .9],\n",
    "    'tvec__min_df': [2, 4, 6],\n",
    "    'tvec__max_features': [2000, 3000, 4000],\n",
    "}"
   ]
  },
  {
   "cell_type": "code",
   "execution_count": null,
   "metadata": {},
   "outputs": [],
   "source": []
  },
  {
   "cell_type": "code",
   "execution_count": null,
   "metadata": {},
   "outputs": [],
   "source": []
  },
  {
   "cell_type": "code",
   "execution_count": null,
   "metadata": {},
   "outputs": [],
   "source": []
  },
  {
   "cell_type": "markdown",
   "metadata": {},
   "source": [
    "Copy classifications onto raw data."
   ]
  },
  {
   "cell_type": "code",
   "execution_count": 20,
   "metadata": {},
   "outputs": [],
   "source": [
    "data['conservative'] = data2['conservative']"
   ]
  },
  {
   "cell_type": "markdown",
   "metadata": {},
   "source": [
    "Drop unclassified rows"
   ]
  },
  {
   "cell_type": "code",
   "execution_count": 21,
   "metadata": {},
   "outputs": [],
   "source": [
    "data = data.dropna(subset=['conservative'])"
   ]
  },
  {
   "cell_type": "code",
   "execution_count": 22,
   "metadata": {
    "scrolled": true
   },
   "outputs": [
    {
     "data": {
      "text/plain": [
       "(9036, 354)"
      ]
     },
     "execution_count": 22,
     "metadata": {},
     "output_type": "execute_result"
    }
   ],
   "source": [
    "data.shape"
   ]
  },
  {
   "cell_type": "markdown",
   "metadata": {},
   "source": [
    "Extract desired features for next step."
   ]
  },
  {
   "cell_type": "code",
   "execution_count": 31,
   "metadata": {},
   "outputs": [],
   "source": [
    "features = ['user.id_str', 'user.description', 'conservative']"
   ]
  },
  {
   "cell_type": "code",
   "execution_count": 32,
   "metadata": {},
   "outputs": [],
   "source": [
    "df = data[features]"
   ]
  },
  {
   "cell_type": "markdown",
   "metadata": {},
   "source": [
    "Drop duplicate users."
   ]
  },
  {
   "cell_type": "code",
   "execution_count": 34,
   "metadata": {},
   "outputs": [],
   "source": [
    "df = df.drop_duplicates(subset='user.id_str')"
   ]
  },
  {
   "cell_type": "code",
   "execution_count": 35,
   "metadata": {},
   "outputs": [
    {
     "data": {
      "text/plain": [
       "(8381, 3)"
      ]
     },
     "execution_count": 35,
     "metadata": {},
     "output_type": "execute_result"
    }
   ],
   "source": [
    "df.shape"
   ]
  },
  {
   "cell_type": "code",
   "execution_count": 36,
   "metadata": {},
   "outputs": [],
   "source": [
    "export_path = r'..\\data\\#michellewilliams_users.csv'\n",
    "df.to_csv(export_path, index=False)"
   ]
  },
  {
   "cell_type": "code",
   "execution_count": 30,
   "metadata": {},
   "outputs": [
    {
     "data": {
      "text/plain": [
       "753643604426489856"
      ]
     },
     "execution_count": 30,
     "metadata": {},
     "output_type": "execute_result"
    }
   ],
   "source": [
    "df['user.id_str'][0]"
   ]
  },
  {
   "cell_type": "code",
   "execution_count": null,
   "metadata": {},
   "outputs": [],
   "source": []
  },
  {
   "cell_type": "code",
   "execution_count": null,
   "metadata": {},
   "outputs": [],
   "source": []
  },
  {
   "cell_type": "code",
   "execution_count": null,
   "metadata": {},
   "outputs": [],
   "source": []
  },
  {
   "cell_type": "code",
   "execution_count": null,
   "metadata": {},
   "outputs": [],
   "source": []
  },
  {
   "cell_type": "code",
   "execution_count": null,
   "metadata": {},
   "outputs": [],
   "source": []
  },
  {
   "cell_type": "code",
   "execution_count": 4,
   "metadata": {},
   "outputs": [],
   "source": [
    "nabe = ple.Nabe()"
   ]
  },
  {
   "cell_type": "code",
   "execution_count": 15,
   "metadata": {},
   "outputs": [],
   "source": [
    "data = data.dropna(subset=['conservative'])"
   ]
  },
  {
   "cell_type": "code",
   "execution_count": 16,
   "metadata": {},
   "outputs": [
    {
     "data": {
      "text/plain": [
       "(9036, 354)"
      ]
     },
     "execution_count": 16,
     "metadata": {},
     "output_type": "execute_result"
    }
   ],
   "source": [
    "data.shape"
   ]
  },
  {
   "cell_type": "code",
   "execution_count": null,
   "metadata": {},
   "outputs": [],
   "source": []
  },
  {
   "cell_type": "code",
   "execution_count": null,
   "metadata": {},
   "outputs": [],
   "source": [
    "export_path = r'..\\data\\#michellewilliams.csv'\n",
    "data.to_csv(export_path, index=False)"
   ]
  },
  {
   "cell_type": "code",
   "execution_count": 12,
   "metadata": {},
   "outputs": [],
   "source": [
    "data['conservative'] = data2['conservative']"
   ]
  },
  {
   "cell_type": "code",
   "execution_count": null,
   "metadata": {},
   "outputs": [],
   "source": []
  },
  {
   "cell_type": "code",
   "execution_count": 11,
   "metadata": {
    "scrolled": true
   },
   "outputs": [
    {
     "data": {
      "text/plain": [
       "{'retweeted_status.id_str': 3005,\n",
       " 'retweeted_status.full_text': 12757,\n",
       " 'conservative': 4416}"
      ]
     },
     "execution_count": 11,
     "metadata": {},
     "output_type": "execute_result"
    }
   ],
   "source": [
    "nabe.get_nulls(data2)"
   ]
  },
  {
   "cell_type": "code",
   "execution_count": 36,
   "metadata": {},
   "outputs": [],
   "source": [
    "data['conservative'] = data2['conservative']"
   ]
  },
  {
   "cell_type": "code",
   "execution_count": 39,
   "metadata": {},
   "outputs": [],
   "source": [
    "data = data.dropna(subset=['conservative'])"
   ]
  },
  {
   "cell_type": "code",
   "execution_count": 40,
   "metadata": {},
   "outputs": [
    {
     "data": {
      "text/plain": [
       "(9036, 354)"
      ]
     },
     "execution_count": 40,
     "metadata": {},
     "output_type": "execute_result"
    }
   ],
   "source": [
    "data.shape"
   ]
  },
  {
   "cell_type": "code",
   "execution_count": 42,
   "metadata": {},
   "outputs": [
    {
     "data": {
      "text/plain": [
       "0.0    5031\n",
       "1.0    4005\n",
       "Name: conservative, dtype: int64"
      ]
     },
     "execution_count": 42,
     "metadata": {},
     "output_type": "execute_result"
    }
   ],
   "source": [
    "data['conservative'].value_counts()"
   ]
  },
  {
   "cell_type": "code",
   "execution_count": 36,
   "metadata": {},
   "outputs": [],
   "source": [
    "n = 4012"
   ]
  },
  {
   "cell_type": "code",
   "execution_count": 37,
   "metadata": {},
   "outputs": [
    {
     "data": {
      "text/plain": [
       "created_at                                                                  Thu Dec 19 23:32:52 +0000 2019\n",
       "id                                                                                     1207806033495764992\n",
       "id_str                                                                                 1207806033495764992\n",
       "full_text                                                @kateolivieri @matumazza @jk_rowling Are you s...\n",
       "truncated                                                                                            False\n",
       "display_text_range                                                                                [37, 74]\n",
       "source                                                   <a href=\"http://twitter.com/download/iphone\" r...\n",
       "in_reply_to_status_id                                                                          1.20767e+18\n",
       "in_reply_to_status_id_str                                                              1207671591049605124\n",
       "in_reply_to_user_id                                                                            4.40691e+08\n",
       "in_reply_to_user_id_str                                                                          440690592\n",
       "in_reply_to_screen_name                                                                       kateolivieri\n",
       "geo                                                                                                   None\n",
       "coordinates                                                                                           None\n",
       "place                                                                                                  NaN\n",
       "contributors                                                                                          None\n",
       "is_quote_status                                                                                      False\n",
       "retweet_count                                                                                            0\n",
       "favorite_count                                                                                           1\n",
       "favorited                                                                                            False\n",
       "retweeted                                                                                            False\n",
       "lang                                                                                                    en\n",
       "entities.hashtags                                                                                       []\n",
       "entities.symbols                                                                                        []\n",
       "entities.user_mentions                                   [{'screen_name': 'kateolivieri', 'name': 'Kate...\n",
       "entities.urls                                                                                           []\n",
       "user.id                                                                                1128142017433952256\n",
       "user.id_str                                                                            1128142017433952256\n",
       "user.name                                                                                      Juliana 🤡🤡🤡\n",
       "user.screen_name                                                                                   juptes_\n",
       "user.location                                                                                             \n",
       "user.description                                                pessoa confusa que gosta de reclamar muito\n",
       "user.url                                                                                              None\n",
       "user.entities.description.urls                                                                          []\n",
       "user.protected                                                                                       False\n",
       "user.followers_count                                                                                    60\n",
       "user.friends_count                                                                                     317\n",
       "user.listed_count                                                                                        0\n",
       "user.created_at                                                             Tue May 14 03:36:31 +0000 2019\n",
       "user.favourites_count                                                                                17127\n",
       "user.utc_offset                                                                                       None\n",
       "user.time_zone                                                                                        None\n",
       "user.geo_enabled                                                                                     False\n",
       "user.verified                                                                                        False\n",
       "user.statuses_count                                                                                   4345\n",
       "user.lang                                                                                             None\n",
       "user.contributors_enabled                                                                            False\n",
       "user.is_translator                                                                                   False\n",
       "user.is_translation_enabled                                                                          False\n",
       "user.profile_background_color                                                                       F5F8FA\n",
       "user.profile_background_image_url                                                                     None\n",
       "user.profile_background_image_url_https                                                               None\n",
       "user.profile_background_tile                                                                         False\n",
       "user.profile_image_url                                   http://pbs.twimg.com/profile_images/1202836231...\n",
       "user.profile_image_url_https                             https://pbs.twimg.com/profile_images/120283623...\n",
       "user.profile_banner_url                                  https://pbs.twimg.com/profile_banners/11281420...\n",
       "user.profile_link_color                                                                             1DA1F2\n",
       "user.profile_sidebar_border_color                                                                   C0DEED\n",
       "user.profile_sidebar_fill_color                                                                     DDEEF6\n",
       "user.profile_text_color                                                                             333333\n",
       "user.profile_use_background_image                                                                     True\n",
       "user.has_extended_profile                                                                             True\n",
       "user.default_profile                                                                                  True\n",
       "user.default_profile_image                                                                           False\n",
       "user.can_media_tag                                                                                    True\n",
       "user.followed_by                                                                                     False\n",
       "user.following                                                                                       False\n",
       "user.follow_request_sent                                                                             False\n",
       "user.notifications                                                                                   False\n",
       "user.translator_type                                                                                  none\n",
       "user.entities.url.urls                                                                                 NaN\n",
       "possibly_sensitive                                                                                     NaN\n",
       "possibly_sensitive_appealable                                                                          NaN\n",
       "entities.media                                                                                         NaN\n",
       "extended_entities.media                                                                                NaN\n",
       "quoted_status_id                                                                                       NaN\n",
       "quoted_status_id_str                                                                                   NaN\n",
       "quoted_status_permalink.url                                                                            NaN\n",
       "quoted_status_permalink.expanded                                                                       NaN\n",
       "quoted_status_permalink.display                                                                        NaN\n",
       "quoted_status.created_at                                                                               NaN\n",
       "quoted_status.id                                                                                       NaN\n",
       "quoted_status.id_str                                                                                   NaN\n",
       "quoted_status.full_text                                                                                NaN\n",
       "quoted_status.truncated                                                                                NaN\n",
       "quoted_status.display_text_range                                                                       NaN\n",
       "quoted_status.entities.hashtags                                                                        NaN\n",
       "quoted_status.entities.symbols                                                                         NaN\n",
       "quoted_status.entities.user_mentions                                                                   NaN\n",
       "quoted_status.entities.urls                                                                            NaN\n",
       "quoted_status.source                                                                                   NaN\n",
       "quoted_status.in_reply_to_status_id                                                                    NaN\n",
       "quoted_status.in_reply_to_status_id_str                                                                NaN\n",
       "quoted_status.in_reply_to_user_id                                                                      NaN\n",
       "quoted_status.in_reply_to_user_id_str                                                                  NaN\n",
       "quoted_status.in_reply_to_screen_name                                                                  NaN\n",
       "quoted_status.user.id                                                                                  NaN\n",
       "quoted_status.user.id_str                                                                              NaN\n",
       "quoted_status.user.name                                                                                NaN\n",
       "quoted_status.user.screen_name                                                                         NaN\n",
       "quoted_status.user.location                                                                            NaN\n",
       "quoted_status.user.description                                                                         NaN\n",
       "quoted_status.user.url                                                                                 NaN\n",
       "quoted_status.user.entities.url.urls                                                                   NaN\n",
       "quoted_status.user.entities.description.urls                                                           NaN\n",
       "quoted_status.user.protected                                                                           NaN\n",
       "quoted_status.user.followers_count                                                                     NaN\n",
       "quoted_status.user.friends_count                                                                       NaN\n",
       "quoted_status.user.listed_count                                                                        NaN\n",
       "quoted_status.user.created_at                                                                          NaN\n",
       "quoted_status.user.favourites_count                                                                    NaN\n",
       "quoted_status.user.utc_offset                                                                          NaN\n",
       "quoted_status.user.time_zone                                                                           NaN\n",
       "quoted_status.user.geo_enabled                                                                         NaN\n",
       "quoted_status.user.verified                                                                            NaN\n",
       "quoted_status.user.statuses_count                                                                      NaN\n",
       "quoted_status.user.lang                                                                                NaN\n",
       "quoted_status.user.contributors_enabled                                                                NaN\n",
       "quoted_status.user.is_translator                                                                       NaN\n",
       "quoted_status.user.is_translation_enabled                                                              NaN\n",
       "quoted_status.user.profile_background_color                                                            NaN\n",
       "quoted_status.user.profile_background_image_url                                                        NaN\n",
       "quoted_status.user.profile_background_image_url_https                                                  NaN\n",
       "quoted_status.user.profile_background_tile                                                             NaN\n",
       "quoted_status.user.profile_image_url                                                                   NaN\n",
       "quoted_status.user.profile_image_url_https                                                             NaN\n",
       "quoted_status.user.profile_banner_url                                                                  NaN\n",
       "quoted_status.user.profile_link_color                                                                  NaN\n",
       "quoted_status.user.profile_sidebar_border_color                                                        NaN\n",
       "quoted_status.user.profile_sidebar_fill_color                                                          NaN\n",
       "quoted_status.user.profile_text_color                                                                  NaN\n",
       "quoted_status.user.profile_use_background_image                                                        NaN\n",
       "quoted_status.user.has_extended_profile                                                                NaN\n",
       "quoted_status.user.default_profile                                                                     NaN\n",
       "quoted_status.user.default_profile_image                                                               NaN\n",
       "quoted_status.user.can_media_tag                                                                       NaN\n",
       "quoted_status.user.followed_by                                                                         NaN\n",
       "quoted_status.user.following                                                                           NaN\n",
       "quoted_status.user.follow_request_sent                                                                 NaN\n",
       "quoted_status.user.notifications                                                                       NaN\n",
       "quoted_status.user.translator_type                                                                     NaN\n",
       "quoted_status.geo                                                                                      NaN\n",
       "quoted_status.coordinates                                                                              NaN\n",
       "quoted_status.place                                                                                    NaN\n",
       "quoted_status.contributors                                                                             NaN\n",
       "quoted_status.is_quote_status                                                                          NaN\n",
       "quoted_status.retweet_count                                                                            NaN\n",
       "quoted_status.favorite_count                                                                           NaN\n",
       "quoted_status.favorited                                                                                NaN\n",
       "quoted_status.retweeted                                                                                NaN\n",
       "quoted_status.lang                                                                                     NaN\n",
       "place.id                                                                                               NaN\n",
       "place.url                                                                                              NaN\n",
       "place.place_type                                                                                       NaN\n",
       "place.name                                                                                             NaN\n",
       "place.full_name                                                                                        NaN\n",
       "place.country_code                                                                                     NaN\n",
       "place.country                                                                                          NaN\n",
       "place.contained_within                                                                                 NaN\n",
       "place.bounding_box.type                                                                                NaN\n",
       "place.bounding_box.coordinates                                                                         NaN\n",
       "quoted_status.entities.media                                                                           NaN\n",
       "quoted_status.extended_entities.media                                                                  NaN\n",
       "quoted_status.possibly_sensitive                                                                       NaN\n",
       "quoted_status.possibly_sensitive_appealable                                                            NaN\n",
       "quoted_status.quoted_status_id                                                                         NaN\n",
       "quoted_status.quoted_status_id_str                                                                     NaN\n",
       "quoted_status.quoted_status_permalink.url                                                              NaN\n",
       "quoted_status.quoted_status_permalink.expanded                                                         NaN\n",
       "quoted_status.quoted_status_permalink.display                                                          NaN\n",
       "quoted_status.place.id                                                                                 NaN\n",
       "quoted_status.place.url                                                                                NaN\n",
       "quoted_status.place.place_type                                                                         NaN\n",
       "quoted_status.place.name                                                                               NaN\n",
       "quoted_status.place.full_name                                                                          NaN\n",
       "quoted_status.place.country_code                                                                       NaN\n",
       "quoted_status.place.country                                                                            NaN\n",
       "quoted_status.place.contained_within                                                                   NaN\n",
       "quoted_status.place.bounding_box.type                                                                  NaN\n",
       "quoted_status.place.bounding_box.coordinates                                                           NaN\n",
       "Name: 4012, dtype: object"
      ]
     },
     "execution_count": 37,
     "metadata": {},
     "output_type": "execute_result"
    }
   ],
   "source": [
    "data.loc[n]"
   ]
  },
  {
   "cell_type": "code",
   "execution_count": 38,
   "metadata": {},
   "outputs": [
    {
     "data": {
      "text/plain": [
       "'@kateolivieri @matumazza @jk_rowling Are you sure you live in this planet?'"
      ]
     },
     "execution_count": 38,
     "metadata": {},
     "output_type": "execute_result"
    }
   ],
   "source": [
    "t = data['full_text'][n]\n",
    "t"
   ]
  },
  {
   "cell_type": "code",
   "execution_count": 781,
   "metadata": {},
   "outputs": [],
   "source": [
    "data['conservative'] = [1 if x == t else y for x, y in zip(data['full_text'], data['conservative'])]"
   ]
  },
  {
   "cell_type": "code",
   "execution_count": 39,
   "metadata": {},
   "outputs": [],
   "source": [
    "export_path = r'..\\data\\replies_to_jk_rowling_classify3.csv'\n",
    "data.to_csv(export_path, index=False)"
   ]
  },
  {
   "cell_type": "code",
   "execution_count": null,
   "metadata": {},
   "outputs": [],
   "source": []
  },
  {
   "cell_type": "code",
   "execution_count": null,
   "metadata": {},
   "outputs": [],
   "source": []
  },
  {
   "cell_type": "code",
   "execution_count": null,
   "metadata": {},
   "outputs": [],
   "source": []
  },
  {
   "cell_type": "code",
   "execution_count": null,
   "metadata": {},
   "outputs": [],
   "source": []
  },
  {
   "cell_type": "code",
   "execution_count": null,
   "metadata": {},
   "outputs": [],
   "source": []
  },
  {
   "cell_type": "code",
   "execution_count": null,
   "metadata": {},
   "outputs": [],
   "source": []
  },
  {
   "cell_type": "code",
   "execution_count": 798,
   "metadata": {},
   "outputs": [],
   "source": [
    "import json"
   ]
  },
  {
   "cell_type": "code",
   "execution_count": 822,
   "metadata": {},
   "outputs": [],
   "source": [
    "import_path = r'..\\data\\replies_to_jk_rowling.json'\n",
    "with open(import_path) as f:\n",
    "    j = json.load(f)\n",
    "    data = pd.io.json.json_normalize(j)\n",
    "\n",
    "# import_path = r'..\\data\\#michellewilliams_classify2.csv'\n",
    "# data2 = pd.read_json(import_path, low_memory=False)"
   ]
  },
  {
   "cell_type": "code",
   "execution_count": 823,
   "metadata": {},
   "outputs": [
    {
     "data": {
      "text/plain": [
       "(5726, 180)"
      ]
     },
     "execution_count": 823,
     "metadata": {},
     "output_type": "execute_result"
    }
   ],
   "source": [
    "data.shape"
   ]
  },
  {
   "cell_type": "code",
   "execution_count": 803,
   "metadata": {},
   "outputs": [
    {
     "data": {
      "text/plain": [
       "Index(['created_at', 'id', 'id_str', 'full_text', 'truncated',\n",
       "       'display_text_range', 'source', 'in_reply_to_status_id',\n",
       "       'in_reply_to_status_id_str', 'in_reply_to_user_id',\n",
       "       ...\n",
       "       'quoted_status.place.id', 'quoted_status.place.url',\n",
       "       'quoted_status.place.place_type', 'quoted_status.place.name',\n",
       "       'quoted_status.place.full_name', 'quoted_status.place.country_code',\n",
       "       'quoted_status.place.country', 'quoted_status.place.contained_within',\n",
       "       'quoted_status.place.bounding_box.type',\n",
       "       'quoted_status.place.bounding_box.coordinates'],\n",
       "      dtype='object', length=180)"
      ]
     },
     "execution_count": 803,
     "metadata": {},
     "output_type": "execute_result"
    }
   ],
   "source": [
    "data.columns"
   ]
  },
  {
   "cell_type": "code",
   "execution_count": 810,
   "metadata": {},
   "outputs": [],
   "source": [
    "export_path = r'..\\data\\replies_to_jk_rowling.csv'\n",
    "data.to_csv(export_path, index=False)"
   ]
  },
  {
   "cell_type": "code",
   "execution_count": 808,
   "metadata": {},
   "outputs": [
    {
     "data": {
      "text/plain": [
       "0       False\n",
       "1       False\n",
       "2       False\n",
       "3       False\n",
       "4       False\n",
       "        ...  \n",
       "5721    False\n",
       "5722    False\n",
       "5723    False\n",
       "5724    False\n",
       "5725    False\n",
       "Name: retweeted, Length: 5726, dtype: bool"
      ]
     },
     "execution_count": 808,
     "metadata": {},
     "output_type": "execute_result"
    }
   ],
   "source": [
    "data['retweeted']"
   ]
  },
  {
   "cell_type": "code",
   "execution_count": 829,
   "metadata": {},
   "outputs": [],
   "source": [
    "df = data[(data['lang'] == 'en') | (data['lang'] == 'und')]"
   ]
  },
  {
   "cell_type": "code",
   "execution_count": 830,
   "metadata": {},
   "outputs": [
    {
     "data": {
      "text/plain": [
       "(5361, 180)"
      ]
     },
     "execution_count": 830,
     "metadata": {},
     "output_type": "execute_result"
    }
   ],
   "source": [
    "df.shape"
   ]
  },
  {
   "cell_type": "code",
   "execution_count": 831,
   "metadata": {},
   "outputs": [],
   "source": [
    "df = df[['id_str', 'full_text']]"
   ]
  },
  {
   "cell_type": "code",
   "execution_count": 832,
   "metadata": {},
   "outputs": [],
   "source": [
    "export_path = r'..\\data\\replies_to_jk_rowling_classify2.csv'\n",
    "df.to_csv(export_path, index=False)"
   ]
  },
  {
   "cell_type": "code",
   "execution_count": 838,
   "metadata": {},
   "outputs": [],
   "source": [
    "import_path = r'..\\data\\replies_to_jk_rowling_classify3.xlsx'\n",
    "data2 = pd.read_excel(import_path)"
   ]
  },
  {
   "cell_type": "code",
   "execution_count": 839,
   "metadata": {},
   "outputs": [
    {
     "data": {
      "text/plain": [
       "(5726, 3)"
      ]
     },
     "execution_count": 839,
     "metadata": {},
     "output_type": "execute_result"
    }
   ],
   "source": [
    "data2.shape"
   ]
  },
  {
   "cell_type": "code",
   "execution_count": 840,
   "metadata": {},
   "outputs": [
    {
     "data": {
      "text/plain": [
       "(5361, 2)"
      ]
     },
     "execution_count": 840,
     "metadata": {},
     "output_type": "execute_result"
    }
   ],
   "source": [
    "df.shape"
   ]
  },
  {
   "cell_type": "code",
   "execution_count": 843,
   "metadata": {},
   "outputs": [
    {
     "ename": "ValueError",
     "evalue": "You are trying to merge on object and int64 columns. If you wish to proceed you should use pd.concat",
     "output_type": "error",
     "traceback": [
      "\u001b[1;31m---------------------------------------------------------------------------\u001b[0m",
      "\u001b[1;31mValueError\u001b[0m                                Traceback (most recent call last)",
      "\u001b[1;32m<ipython-input-843-af8d8e6c197e>\u001b[0m in \u001b[0;36m<module>\u001b[1;34m\u001b[0m\n\u001b[1;32m----> 1\u001b[1;33m \u001b[0mdf2\u001b[0m \u001b[1;33m=\u001b[0m \u001b[0mpd\u001b[0m\u001b[1;33m.\u001b[0m\u001b[0mmerge\u001b[0m\u001b[1;33m(\u001b[0m\u001b[0mdf\u001b[0m\u001b[1;33m,\u001b[0m \u001b[0mdata2\u001b[0m\u001b[1;33m,\u001b[0m \u001b[0mhow\u001b[0m\u001b[1;33m=\u001b[0m\u001b[1;34m'inner'\u001b[0m\u001b[1;33m,\u001b[0m \u001b[0mon\u001b[0m\u001b[1;33m=\u001b[0m\u001b[1;34m'id_str'\u001b[0m\u001b[1;33m)\u001b[0m\u001b[1;33m\u001b[0m\u001b[1;33m\u001b[0m\u001b[0m\n\u001b[0m",
      "\u001b[1;32m~\\.conda\\envs\\test\\lib\\site-packages\\pandas\\core\\reshape\\merge.py\u001b[0m in \u001b[0;36mmerge\u001b[1;34m(left, right, how, on, left_on, right_on, left_index, right_index, sort, suffixes, copy, indicator, validate)\u001b[0m\n\u001b[0;32m     79\u001b[0m         \u001b[0mcopy\u001b[0m\u001b[1;33m=\u001b[0m\u001b[0mcopy\u001b[0m\u001b[1;33m,\u001b[0m\u001b[1;33m\u001b[0m\u001b[1;33m\u001b[0m\u001b[0m\n\u001b[0;32m     80\u001b[0m         \u001b[0mindicator\u001b[0m\u001b[1;33m=\u001b[0m\u001b[0mindicator\u001b[0m\u001b[1;33m,\u001b[0m\u001b[1;33m\u001b[0m\u001b[1;33m\u001b[0m\u001b[0m\n\u001b[1;32m---> 81\u001b[1;33m         \u001b[0mvalidate\u001b[0m\u001b[1;33m=\u001b[0m\u001b[0mvalidate\u001b[0m\u001b[1;33m,\u001b[0m\u001b[1;33m\u001b[0m\u001b[1;33m\u001b[0m\u001b[0m\n\u001b[0m\u001b[0;32m     82\u001b[0m     )\n\u001b[0;32m     83\u001b[0m     \u001b[1;32mreturn\u001b[0m \u001b[0mop\u001b[0m\u001b[1;33m.\u001b[0m\u001b[0mget_result\u001b[0m\u001b[1;33m(\u001b[0m\u001b[1;33m)\u001b[0m\u001b[1;33m\u001b[0m\u001b[1;33m\u001b[0m\u001b[0m\n",
      "\u001b[1;32m~\\.conda\\envs\\test\\lib\\site-packages\\pandas\\core\\reshape\\merge.py\u001b[0m in \u001b[0;36m__init__\u001b[1;34m(self, left, right, how, on, left_on, right_on, axis, left_index, right_index, sort, suffixes, copy, indicator, validate)\u001b[0m\n\u001b[0;32m    628\u001b[0m         \u001b[1;31m# validate the merge keys dtypes. We may need to coerce\u001b[0m\u001b[1;33m\u001b[0m\u001b[1;33m\u001b[0m\u001b[1;33m\u001b[0m\u001b[0m\n\u001b[0;32m    629\u001b[0m         \u001b[1;31m# to avoid incompat dtypes\u001b[0m\u001b[1;33m\u001b[0m\u001b[1;33m\u001b[0m\u001b[1;33m\u001b[0m\u001b[0m\n\u001b[1;32m--> 630\u001b[1;33m         \u001b[0mself\u001b[0m\u001b[1;33m.\u001b[0m\u001b[0m_maybe_coerce_merge_keys\u001b[0m\u001b[1;33m(\u001b[0m\u001b[1;33m)\u001b[0m\u001b[1;33m\u001b[0m\u001b[1;33m\u001b[0m\u001b[0m\n\u001b[0m\u001b[0;32m    631\u001b[0m \u001b[1;33m\u001b[0m\u001b[0m\n\u001b[0;32m    632\u001b[0m         \u001b[1;31m# If argument passed to validate,\u001b[0m\u001b[1;33m\u001b[0m\u001b[1;33m\u001b[0m\u001b[1;33m\u001b[0m\u001b[0m\n",
      "\u001b[1;32m~\\.conda\\envs\\test\\lib\\site-packages\\pandas\\core\\reshape\\merge.py\u001b[0m in \u001b[0;36m_maybe_coerce_merge_keys\u001b[1;34m(self)\u001b[0m\n\u001b[0;32m   1136\u001b[0m                     \u001b[0minferred_right\u001b[0m \u001b[1;32min\u001b[0m \u001b[0mstring_types\u001b[0m \u001b[1;32mand\u001b[0m \u001b[0minferred_left\u001b[0m \u001b[1;32mnot\u001b[0m \u001b[1;32min\u001b[0m \u001b[0mstring_types\u001b[0m\u001b[1;33m\u001b[0m\u001b[1;33m\u001b[0m\u001b[0m\n\u001b[0;32m   1137\u001b[0m                 ):\n\u001b[1;32m-> 1138\u001b[1;33m                     \u001b[1;32mraise\u001b[0m \u001b[0mValueError\u001b[0m\u001b[1;33m(\u001b[0m\u001b[0mmsg\u001b[0m\u001b[1;33m)\u001b[0m\u001b[1;33m\u001b[0m\u001b[1;33m\u001b[0m\u001b[0m\n\u001b[0m\u001b[0;32m   1139\u001b[0m \u001b[1;33m\u001b[0m\u001b[0m\n\u001b[0;32m   1140\u001b[0m             \u001b[1;31m# datetimelikes must match exactly\u001b[0m\u001b[1;33m\u001b[0m\u001b[1;33m\u001b[0m\u001b[1;33m\u001b[0m\u001b[0m\n",
      "\u001b[1;31mValueError\u001b[0m: You are trying to merge on object and int64 columns. If you wish to proceed you should use pd.concat"
     ]
    }
   ],
   "source": [
    "df2 = pd.merge(df, data2, how='inner', on='id_str')"
   ]
  },
  {
   "cell_type": "code",
   "execution_count": 842,
   "metadata": {},
   "outputs": [
    {
     "data": {
      "text/plain": [
       "(3303, 4)"
      ]
     },
     "execution_count": 842,
     "metadata": {},
     "output_type": "execute_result"
    }
   ],
   "source": [
    "df2.shape"
   ]
  },
  {
   "cell_type": "code",
   "execution_count": 814,
   "metadata": {},
   "outputs": [],
   "source": [
    "export_path = r'..\\data\\replies_to_jk_rowling_classify.csv'\n",
    "df.to_csv(export_path, index=False)"
   ]
  },
  {
   "cell_type": "code",
   "execution_count": null,
   "metadata": {},
   "outputs": [],
   "source": []
  },
  {
   "cell_type": "code",
   "execution_count": null,
   "metadata": {},
   "outputs": [],
   "source": []
  },
  {
   "cell_type": "code",
   "execution_count": null,
   "metadata": {},
   "outputs": [],
   "source": []
  },
  {
   "cell_type": "code",
   "execution_count": null,
   "metadata": {},
   "outputs": [],
   "source": []
  },
  {
   "cell_type": "code",
   "execution_count": 52,
   "metadata": {},
   "outputs": [
    {
     "data": {
      "text/plain": [
       "'RT @CriticsChoice: #Michellewilliams wins the #criticschoice Award for Best Actress In A Limited Series Or Movie Made For Television for he…'"
      ]
     },
     "execution_count": 52,
     "metadata": {},
     "output_type": "execute_result"
    }
   ],
   "source": [
    "df['full_text'][0]"
   ]
  },
  {
   "cell_type": "code",
   "execution_count": null,
   "metadata": {},
   "outputs": [],
   "source": [
    "df['full_text'][0]"
   ]
  },
  {
   "cell_type": "code",
   "execution_count": 86,
   "metadata": {},
   "outputs": [
    {
     "data": {
      "text/plain": [
       "(13482, 4)"
      ]
     },
     "execution_count": 86,
     "metadata": {},
     "output_type": "execute_result"
    }
   ],
   "source": [
    "df.shape"
   ]
  },
  {
   "cell_type": "code",
   "execution_count": 66,
   "metadata": {},
   "outputs": [],
   "source": [
    "df = df[df['full_text'] != 'RT @CriticsChoice: #Michellewilliams wins the #criticschoice Award for Best Actress In A Limited Series Or Movie Made For Television for he…']"
   ]
  },
  {
   "cell_type": "code",
   "execution_count": 67,
   "metadata": {},
   "outputs": [
    {
     "data": {
      "text/plain": [
       "(13482, 4)"
      ]
     },
     "execution_count": 67,
     "metadata": {},
     "output_type": "execute_result"
    }
   ],
   "source": [
    "df.shape"
   ]
  },
  {
   "cell_type": "code",
   "execution_count": 87,
   "metadata": {},
   "outputs": [
    {
     "data": {
      "text/plain": [
       "id_str                                                      1215470667661004800\n",
       "full_text                     RT @V_actually: Hollywood's full of sexual dev...\n",
       "retweeted_status.id_str                                             1.21529e+18\n",
       "retweeted_status.full_text    Hollywood's full of sexual deviants &amp; pedo...\n",
       "Name: 1008, dtype: object"
      ]
     },
     "execution_count": 87,
     "metadata": {},
     "output_type": "execute_result"
    }
   ],
   "source": [
    "df.loc[1008]"
   ]
  },
  {
   "cell_type": "code",
   "execution_count": 88,
   "metadata": {
    "scrolled": true
   },
   "outputs": [
    {
     "data": {
      "text/plain": [
       "\"RT @V_actually: Hollywood's full of sexual deviants &amp; pedophiles that have sold their souls for fame.\\n\\nIt’s amazing the amount of brainwash…\""
      ]
     },
     "execution_count": 88,
     "metadata": {},
     "output_type": "execute_result"
    }
   ],
   "source": [
    "df['full_text'][1008]"
   ]
  },
  {
   "cell_type": "code",
   "execution_count": 92,
   "metadata": {},
   "outputs": [],
   "source": [
    "df['conservative'] = df['full_text'].map({'RT @V_actually: Hollywood\\'s full of sexual deviants &amp; pedophiles that have sold their souls for fame.\\n\\nIt’s amazing the amount of brainwash…': 1})"
   ]
  },
  {
   "cell_type": "code",
   "execution_count": 93,
   "metadata": {},
   "outputs": [
    {
     "data": {
      "text/plain": [
       "506"
      ]
     },
     "execution_count": 93,
     "metadata": {},
     "output_type": "execute_result"
    }
   ],
   "source": [
    "df['conservative'].count()"
   ]
  },
  {
   "cell_type": "code",
   "execution_count": 94,
   "metadata": {},
   "outputs": [],
   "source": [
    "export_path = r'..\\data\\#michellewilliams_classify3.csv'\n",
    "df.to_csv(export_path, index=False)"
   ]
  },
  {
   "cell_type": "code",
   "execution_count": 95,
   "metadata": {},
   "outputs": [],
   "source": [
    "import_path = r'..\\data\\#michellewilliams_classify3.csv'\n",
    "data2 = pd.read_csv(import_path, low_memory=False)"
   ]
  },
  {
   "cell_type": "code",
   "execution_count": 98,
   "metadata": {},
   "outputs": [
    {
     "data": {
      "text/plain": [
       "id_str                                                      1215316789548199936\n",
       "full_text                     RT @americansunited: S/O to #MichelleWilliams ...\n",
       "retweeted_status.id_str                                             1.21468e+18\n",
       "retweeted_status.full_text                                                  NaN\n",
       "conservative                                                                NaN\n",
       "Name: 1205, dtype: object"
      ]
     },
     "execution_count": 98,
     "metadata": {},
     "output_type": "execute_result"
    }
   ],
   "source": [
    "data2.loc[1205]"
   ]
  },
  {
   "cell_type": "code",
   "execution_count": 78,
   "metadata": {},
   "outputs": [
    {
     "data": {
      "text/plain": [
       "1216078555152617472"
      ]
     },
     "execution_count": 78,
     "metadata": {},
     "output_type": "execute_result"
    }
   ],
   "source": [
    "data2['id_str'][232]"
   ]
  },
  {
   "cell_type": "code",
   "execution_count": 104,
   "metadata": {},
   "outputs": [],
   "source": [
    "import_path = r'..\\data\\#michellewilliams_classify5.csv'\n",
    "data3 = pd.read_csv(import_path, low_memory=False)"
   ]
  },
  {
   "cell_type": "code",
   "execution_count": 101,
   "metadata": {},
   "outputs": [
    {
     "data": {
      "text/plain": [
       "1.22e+18"
      ]
     },
     "execution_count": 101,
     "metadata": {},
     "output_type": "execute_result"
    }
   ],
   "source": [
    "data3['id_str'][232]"
   ]
  },
  {
   "cell_type": "code",
   "execution_count": 102,
   "metadata": {},
   "outputs": [
    {
     "data": {
      "text/plain": [
       "Index(['id_str', 'full_text', 'retweeted_status.id_str',\n",
       "       'retweeted_status.full_text', 'conservative'],\n",
       "      dtype='object')"
      ]
     },
     "execution_count": 102,
     "metadata": {},
     "output_type": "execute_result"
    }
   ],
   "source": [
    "data3.columns"
   ]
  },
  {
   "cell_type": "code",
   "execution_count": 114,
   "metadata": {},
   "outputs": [],
   "source": [
    "data2['conservative'] = data3['conservative']"
   ]
  },
  {
   "cell_type": "code",
   "execution_count": 115,
   "metadata": {},
   "outputs": [
    {
     "data": {
      "text/plain": [
       "\"RT @RockofLifeNI: At tonight's #goldenglobes2020 pregnant actress #MichelleWilliams said she wouldn't have won if she hadn't aborted her ot…\""
      ]
     },
     "execution_count": 115,
     "metadata": {},
     "output_type": "execute_result"
    }
   ],
   "source": [
    "data2['full_text'][101]"
   ]
  },
  {
   "cell_type": "code",
   "execution_count": 118,
   "metadata": {},
   "outputs": [],
   "source": [
    "data2['conservative'] = [1 if x == \"RT @RockofLifeNI: At tonight's #goldenglobes2020 pregnant actress #MichelleWilliams said she wouldn't have won if she hadn't aborted her ot…\" else y for x, y in zip(data2['full_text'], data2['conservative'])]"
   ]
  },
  {
   "cell_type": "code",
   "execution_count": 119,
   "metadata": {},
   "outputs": [],
   "source": [
    "export_path = r'..\\data\\#michellewilliams_classify7.csv'\n",
    "data2.to_csv(export_path, index=False)"
   ]
  },
  {
   "cell_type": "code",
   "execution_count": null,
   "metadata": {},
   "outputs": [],
   "source": []
  }
 ],
 "metadata": {
  "kernelspec": {
   "display_name": "Python 3",
   "language": "python",
   "name": "python3"
  },
  "language_info": {
   "codemirror_mode": {
    "name": "ipython",
    "version": 3
   },
   "file_extension": ".py",
   "mimetype": "text/x-python",
   "name": "python",
   "nbconvert_exporter": "python",
   "pygments_lexer": "ipython3",
   "version": "3.7.4"
  }
 },
 "nbformat": 4,
 "nbformat_minor": 2
}
