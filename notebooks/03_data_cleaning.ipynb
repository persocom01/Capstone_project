{
 "cells": [
  {
   "cell_type": "markdown",
   "metadata": {},
   "source": [
    "## Data cleaning"
   ]
  },
  {
   "cell_type": "code",
   "execution_count": 1,
   "metadata": {},
   "outputs": [],
   "source": [
    "import pandas as pd\n",
    "pd.options.display.max_columns=100\n",
    "pd.options.display.max_rows=300\n",
    "import numpy as np\n",
    "import pleiades as ple\n",
    "import json\n",
    "import re"
   ]
  },
  {
   "cell_type": "markdown",
   "metadata": {},
   "source": [
    "### Load user data"
   ]
  },
  {
   "cell_type": "code",
   "execution_count": 2,
   "metadata": {},
   "outputs": [],
   "source": [
    "import_path = r'..\\data\\#michellewilliams_users.csv'\n",
    "data = pd.read_csv(import_path, low_memory=False)"
   ]
  },
  {
   "cell_type": "code",
   "execution_count": 3,
   "metadata": {},
   "outputs": [
    {
     "data": {
      "text/html": [
       "<div>\n",
       "<style scoped>\n",
       "    .dataframe tbody tr th:only-of-type {\n",
       "        vertical-align: middle;\n",
       "    }\n",
       "\n",
       "    .dataframe tbody tr th {\n",
       "        vertical-align: top;\n",
       "    }\n",
       "\n",
       "    .dataframe thead th {\n",
       "        text-align: right;\n",
       "    }\n",
       "</style>\n",
       "<table border=\"1\" class=\"dataframe\">\n",
       "  <thead>\n",
       "    <tr style=\"text-align: right;\">\n",
       "      <th></th>\n",
       "      <th>user.id_str</th>\n",
       "      <th>user.name</th>\n",
       "      <th>user.screen_name</th>\n",
       "      <th>user.description</th>\n",
       "      <th>conservative</th>\n",
       "    </tr>\n",
       "  </thead>\n",
       "  <tbody>\n",
       "    <tr>\n",
       "      <td>0</td>\n",
       "      <td>753643604426489856</td>\n",
       "      <td>Phenice McCall#BorisIsMyPrimeMinister✡️🇬🇧</td>\n",
       "      <td>PheniceMccall</td>\n",
       "      <td>NaN</td>\n",
       "      <td>1.0</td>\n",
       "    </tr>\n",
       "    <tr>\n",
       "      <td>1</td>\n",
       "      <td>1104467684</td>\n",
       "      <td>🇺🇸Michael Hays🇺🇸</td>\n",
       "      <td>MichaelHays13</td>\n",
       "      <td>Red Blooded!! All American!! 🌾Heartland born &amp;...</td>\n",
       "      <td>1.0</td>\n",
       "    </tr>\n",
       "    <tr>\n",
       "      <td>2</td>\n",
       "      <td>106310615</td>\n",
       "      <td>Manasi Scott</td>\n",
       "      <td>ManasiScott</td>\n",
       "      <td>Indian singer. Army brat. Muay Thai panda. Hor...</td>\n",
       "      <td>0.0</td>\n",
       "    </tr>\n",
       "    <tr>\n",
       "      <td>3</td>\n",
       "      <td>2993975016</td>\n",
       "      <td>Steve Rabon</td>\n",
       "      <td>srrabon_</td>\n",
       "      <td>Christian,  SC Gamecocks , College Football,  ...</td>\n",
       "      <td>1.0</td>\n",
       "    </tr>\n",
       "    <tr>\n",
       "      <td>4</td>\n",
       "      <td>954190967422242817</td>\n",
       "      <td>Bonnie Kranick</td>\n",
       "      <td>BonnieKranick</td>\n",
       "      <td>Mother of 3 Amma to 3 love my kids, love my gr...</td>\n",
       "      <td>1.0</td>\n",
       "    </tr>\n",
       "  </tbody>\n",
       "</table>\n",
       "</div>"
      ],
      "text/plain": [
       "          user.id_str                                  user.name  \\\n",
       "0  753643604426489856  Phenice McCall#BorisIsMyPrimeMinister✡️🇬🇧   \n",
       "1          1104467684                           🇺🇸Michael Hays🇺🇸   \n",
       "2           106310615                               Manasi Scott   \n",
       "3          2993975016                                Steve Rabon   \n",
       "4  954190967422242817                             Bonnie Kranick   \n",
       "\n",
       "  user.screen_name                                   user.description  \\\n",
       "0    PheniceMccall                                                NaN   \n",
       "1    MichaelHays13  Red Blooded!! All American!! 🌾Heartland born &...   \n",
       "2      ManasiScott  Indian singer. Army brat. Muay Thai panda. Hor...   \n",
       "3         srrabon_  Christian,  SC Gamecocks , College Football,  ...   \n",
       "4    BonnieKranick  Mother of 3 Amma to 3 love my kids, love my gr...   \n",
       "\n",
       "   conservative  \n",
       "0           1.0  \n",
       "1           1.0  \n",
       "2           0.0  \n",
       "3           1.0  \n",
       "4           1.0  "
      ]
     },
     "execution_count": 3,
     "metadata": {},
     "output_type": "execute_result"
    }
   ],
   "source": [
    "data.head()"
   ]
  },
  {
   "cell_type": "code",
   "execution_count": 4,
   "metadata": {},
   "outputs": [
    {
     "data": {
      "text/plain": [
       "(8381, 5)"
      ]
     },
     "execution_count": 4,
     "metadata": {},
     "output_type": "execute_result"
    }
   ],
   "source": [
    "data.shape"
   ]
  },
  {
   "cell_type": "code",
   "execution_count": 5,
   "metadata": {},
   "outputs": [
    {
     "data": {
      "text/plain": [
       "user.id_str            0\n",
       "user.name              2\n",
       "user.screen_name       0\n",
       "user.description    1311\n",
       "conservative           0\n",
       "dtype: int64"
      ]
     },
     "execution_count": 5,
     "metadata": {},
     "output_type": "execute_result"
    }
   ],
   "source": [
    "data.isnull().sum()"
   ]
  },
  {
   "cell_type": "markdown",
   "metadata": {},
   "source": [
    "### Clean user data"
   ]
  },
  {
   "cell_type": "markdown",
   "metadata": {},
   "source": [
    "Impute null values"
   ]
  },
  {
   "cell_type": "code",
   "execution_count": 6,
   "metadata": {},
   "outputs": [],
   "source": [
    "data = data.fillna('')"
   ]
  },
  {
   "cell_type": "code",
   "execution_count": 7,
   "metadata": {},
   "outputs": [],
   "source": [
    "df = data[['user.name', 'user.description', 'conservative']]"
   ]
  },
  {
   "cell_type": "markdown",
   "metadata": {},
   "source": [
    "Remove unwanted elements from text."
   ]
  },
  {
   "cell_type": "code",
   "execution_count": 8,
   "metadata": {},
   "outputs": [],
   "source": [
    "cz = ple.CZ()"
   ]
  },
  {
   "cell_type": "code",
   "execution_count": 9,
   "metadata": {},
   "outputs": [],
   "source": [
    "emoji_path = r'..\\emojis.json'\n",
    "with open(emoji_path) as f:\n",
    "    emojis = json.load(f)"
   ]
  },
  {
   "cell_type": "code",
   "execution_count": 10,
   "metadata": {},
   "outputs": [],
   "source": [
    "emoji_pattern = '(' + '|'.join(emojis) + ')'\n",
    "hastag_pattern = r'(#\\w+\\b)'\n",
    "hastag_seperator = r'#([0-9A-Z]+[a-z]*)+'\n",
    "\n",
    "twitter_dict = {\n",
    "    emoji_pattern: r' \\1 ',\n",
    "    hastag_pattern: r' \\1 ',\n",
    "}\n",
    "\n",
    "replacement = 'genderpronouns'\n",
    "pronoun_dict = {k: replacement for k in cz.re_ref['gender_pronouns']}\n",
    "\n",
    "leftover_dict = {\n",
    "    r'\\bKAG2020\\b': 'KAG',\n",
    "    r'\\b[0-9a-zA-Z]\\b': '',\n",
    "    r'\\s+': ' '\n",
    "}"
   ]
  },
  {
   "cell_type": "code",
   "execution_count": 11,
   "metadata": {},
   "outputs": [],
   "source": [
    "def remove_non_emojis_and_hastags(sentence):\n",
    "    words = sentence.split()\n",
    "    clean_sentence = ''\n",
    "    for word in words:\n",
    "        if re.match(emoji_pattern, word):\n",
    "            clean_sentence = clean_sentence + ' ' + word\n",
    "        elif re.match(hastag_pattern, word):\n",
    "            word = re.sub('#', '', word)\n",
    "            splitted = re.sub('([A-Z][a-z]+)', r' \\1', re.sub('([0-9A-Z]+)', r' \\1', word)).split()\n",
    "            clean_sentence = clean_sentence + ' ' + ' '.join(splitted)\n",
    "    return clean_sentence"
   ]
  },
  {
   "cell_type": "markdown",
   "metadata": {},
   "source": [
    "Transform user names."
   ]
  },
  {
   "cell_type": "code",
   "execution_count": 12,
   "metadata": {
    "scrolled": true
   },
   "outputs": [
    {
     "name": "stdout",
     "output_type": "stream",
     "text": [
      "before: 🇺🇸Michael Hays🇺🇸\n",
      "after:  🇺🇸 🇺🇸\n"
     ]
    },
    {
     "name": "stderr",
     "output_type": "stream",
     "text": [
      "C:\\Users\\admin\\.conda\\envs\\test\\lib\\site-packages\\ipykernel_launcher.py:11: SettingWithCopyWarning: \n",
      "A value is trying to be set on a copy of a slice from a DataFrame.\n",
      "Try using .loc[row_indexer,col_indexer] = value instead\n",
      "\n",
      "See the caveats in the documentation: http://pandas.pydata.org/pandas-docs/stable/user_guide/indexing.html#returning-a-view-versus-a-copy\n",
      "  # This is added back by InteractiveShellApp.init_path()\n"
     ]
    }
   ],
   "source": [
    "print('before:', df['user.name'][1])\n",
    "df['user.name'] = cz.text_list_cleaner(\n",
    "    df['user.name'].copy(),\n",
    "    cz.contractions, # remove contractions.\n",
    "    cz.re_ref['email'], # remove emails.\n",
    "    cz.re_ref['links'], # remove links.\n",
    "    pronoun_dict, # condense gender pronouns.\n",
    "    twitter_dict, # space out emojis and hashtags.\n",
    "    remove_non_emojis_and_hastags, # removes non emojis and hastags, then splits hashtags in CamelCase into individual words.\n",
    "    cz.remove_punctuation, # removes punctunation.\n",
    "    leftover_dict) # remove single letters, numbers and excess whitespaces.\n",
    "print('after:', df['user.name'][1])"
   ]
  },
  {
   "cell_type": "markdown",
   "metadata": {},
   "source": [
    "Now to process user descriptions."
   ]
  },
  {
   "cell_type": "code",
   "execution_count": 13,
   "metadata": {},
   "outputs": [],
   "source": [
    "def decompose_hastags(sentence):\n",
    "    words = sentence.split()\n",
    "    clean_sentence = ''\n",
    "    for word in words:\n",
    "        if re.match(hastag_pattern, word):\n",
    "            word = re.sub('#', '', word)\n",
    "            splitted = re.sub('([A-Z][a-z]+)', r' \\1', re.sub('([0-9A-Z]+)', r' \\1', word)).split()\n",
    "            clean_sentence = clean_sentence + ' ' + ' '.join(splitted)\n",
    "        else:\n",
    "            clean_sentence = clean_sentence + ' ' + word\n",
    "    return clean_sentence"
   ]
  },
  {
   "cell_type": "code",
   "execution_count": 14,
   "metadata": {},
   "outputs": [
    {
     "name": "stdout",
     "output_type": "stream",
     "text": [
      "before: Red Blooded!! All American!! 🌾Heartland born & raised. ⭐️ #MAGA #KAG2020 ⭐️\n",
      "after:  Red Blooded All American 🌾 Heartland born raised ⭐ ️ MAGA KAG ⭐ ️\n"
     ]
    },
    {
     "name": "stderr",
     "output_type": "stream",
     "text": [
      "C:\\Users\\admin\\.conda\\envs\\test\\lib\\site-packages\\ipykernel_launcher.py:11: SettingWithCopyWarning: \n",
      "A value is trying to be set on a copy of a slice from a DataFrame.\n",
      "Try using .loc[row_indexer,col_indexer] = value instead\n",
      "\n",
      "See the caveats in the documentation: http://pandas.pydata.org/pandas-docs/stable/user_guide/indexing.html#returning-a-view-versus-a-copy\n",
      "  # This is added back by InteractiveShellApp.init_path()\n"
     ]
    }
   ],
   "source": [
    "print('before:', df['user.description'][1])\n",
    "df['user.description'] = cz.text_list_cleaner(\n",
    "    df['user.description'].copy(),\n",
    "    cz.contractions, # remove contractions.\n",
    "    cz.re_ref['email'], # remove emails.\n",
    "    cz.re_ref['links'], # remove links.\n",
    "    pronoun_dict, # condense gender pronouns.\n",
    "    twitter_dict, # space out emojis and hastags.\n",
    "    decompose_hastags, # splits hashtags in CamelCase into individual words.\n",
    "    cz.remove_punctuation, # removes punctunation.\n",
    "    leftover_dict)\n",
    "print('after:', df['user.description'][1])"
   ]
  },
  {
   "cell_type": "code",
   "execution_count": 15,
   "metadata": {},
   "outputs": [
    {
     "name": "stderr",
     "output_type": "stream",
     "text": [
      "C:\\Users\\admin\\.conda\\envs\\test\\lib\\site-packages\\ipykernel_launcher.py:1: SettingWithCopyWarning: \n",
      "A value is trying to be set on a copy of a slice from a DataFrame.\n",
      "Try using .loc[row_indexer,col_indexer] = value instead\n",
      "\n",
      "See the caveats in the documentation: http://pandas.pydata.org/pandas-docs/stable/user_guide/indexing.html#returning-a-view-versus-a-copy\n",
      "  \"\"\"Entry point for launching an IPython kernel.\n"
     ]
    }
   ],
   "source": [
    "df['name_and_description'] = df['user.name'] + ' ' + df['user.description']"
   ]
  },
  {
   "cell_type": "markdown",
   "metadata": {},
   "source": [
    "Strip leading and trailing spaces."
   ]
  },
  {
   "cell_type": "code",
   "execution_count": 16,
   "metadata": {},
   "outputs": [
    {
     "name": "stderr",
     "output_type": "stream",
     "text": [
      "C:\\Users\\admin\\.conda\\envs\\test\\lib\\site-packages\\ipykernel_launcher.py:1: SettingWithCopyWarning: \n",
      "A value is trying to be set on a copy of a slice from a DataFrame.\n",
      "Try using .loc[row_indexer,col_indexer] = value instead\n",
      "\n",
      "See the caveats in the documentation: http://pandas.pydata.org/pandas-docs/stable/user_guide/indexing.html#returning-a-view-versus-a-copy\n",
      "  \"\"\"Entry point for launching an IPython kernel.\n"
     ]
    }
   ],
   "source": [
    "df['name_and_description'] = df['name_and_description'].str.strip()"
   ]
  },
  {
   "cell_type": "markdown",
   "metadata": {},
   "source": [
    "Save cleaned data into file."
   ]
  },
  {
   "cell_type": "code",
   "execution_count": 17,
   "metadata": {},
   "outputs": [],
   "source": [
    "export_path = r'..\\data\\#michellewilliams_users_clean.csv'\n",
    "df[['name_and_description', 'conservative']].to_csv(export_path)"
   ]
  },
  {
   "cell_type": "markdown",
   "metadata": {},
   "source": [
    "### Load validation data"
   ]
  },
  {
   "cell_type": "code",
   "execution_count": 18,
   "metadata": {},
   "outputs": [],
   "source": [
    "import_path = r'..\\data\\replies_to_jk_rowling_users.csv'\n",
    "data = pd.read_csv(import_path, low_memory=False)"
   ]
  },
  {
   "cell_type": "code",
   "execution_count": 19,
   "metadata": {},
   "outputs": [
    {
     "data": {
      "text/html": [
       "<div>\n",
       "<style scoped>\n",
       "    .dataframe tbody tr th:only-of-type {\n",
       "        vertical-align: middle;\n",
       "    }\n",
       "\n",
       "    .dataframe tbody tr th {\n",
       "        vertical-align: top;\n",
       "    }\n",
       "\n",
       "    .dataframe thead th {\n",
       "        text-align: right;\n",
       "    }\n",
       "</style>\n",
       "<table border=\"1\" class=\"dataframe\">\n",
       "  <thead>\n",
       "    <tr style=\"text-align: right;\">\n",
       "      <th></th>\n",
       "      <th>user.id_str</th>\n",
       "      <th>user.name</th>\n",
       "      <th>user.screen_name</th>\n",
       "      <th>user.description</th>\n",
       "      <th>conservative</th>\n",
       "    </tr>\n",
       "  </thead>\n",
       "  <tbody>\n",
       "    <tr>\n",
       "      <td>0</td>\n",
       "      <td>1091971984659890176</td>\n",
       "      <td>Michael Jefferson</td>\n",
       "      <td>Michael70234589</td>\n",
       "      <td>That's ignorant \\nYou're ignorant</td>\n",
       "      <td>0.0</td>\n",
       "    </tr>\n",
       "    <tr>\n",
       "      <td>1</td>\n",
       "      <td>146446713</td>\n",
       "      <td>human</td>\n",
       "      <td>amoozeboosh</td>\n",
       "      <td>And I'm back in the room. Last seen on Twitter...</td>\n",
       "      <td>0.0</td>\n",
       "    </tr>\n",
       "    <tr>\n",
       "      <td>2</td>\n",
       "      <td>426236968</td>\n",
       "      <td>kj 👽✌</td>\n",
       "      <td>VanillaCreme96</td>\n",
       "      <td>23 | Infant teacher | Part-time magical girl |...</td>\n",
       "      <td>0.0</td>\n",
       "    </tr>\n",
       "    <tr>\n",
       "      <td>3</td>\n",
       "      <td>140096386</td>\n",
       "      <td>Keene Maburger🔶</td>\n",
       "      <td>keenemaverick</td>\n",
       "      <td>Gamer. Communist. He/him, but barely. Also spa...</td>\n",
       "      <td>0.0</td>\n",
       "    </tr>\n",
       "    <tr>\n",
       "      <td>4</td>\n",
       "      <td>1195478151914303489</td>\n",
       "      <td>Katie</td>\n",
       "      <td>Katie15230082</td>\n",
       "      <td>May as well just change my name to Kath at thi...</td>\n",
       "      <td>0.0</td>\n",
       "    </tr>\n",
       "  </tbody>\n",
       "</table>\n",
       "</div>"
      ],
      "text/plain": [
       "           user.id_str          user.name user.screen_name  \\\n",
       "0  1091971984659890176  Michael Jefferson  Michael70234589   \n",
       "1            146446713              human      amoozeboosh   \n",
       "2            426236968              kj 👽✌   VanillaCreme96   \n",
       "3            140096386    Keene Maburger🔶    keenemaverick   \n",
       "4  1195478151914303489              Katie    Katie15230082   \n",
       "\n",
       "                                    user.description  conservative  \n",
       "0                  That's ignorant \\nYou're ignorant           0.0  \n",
       "1  And I'm back in the room. Last seen on Twitter...           0.0  \n",
       "2  23 | Infant teacher | Part-time magical girl |...           0.0  \n",
       "3  Gamer. Communist. He/him, but barely. Also spa...           0.0  \n",
       "4  May as well just change my name to Kath at thi...           0.0  "
      ]
     },
     "execution_count": 19,
     "metadata": {},
     "output_type": "execute_result"
    }
   ],
   "source": [
    "data.head()"
   ]
  },
  {
   "cell_type": "code",
   "execution_count": 20,
   "metadata": {},
   "outputs": [
    {
     "data": {
      "text/plain": [
       "(947, 5)"
      ]
     },
     "execution_count": 20,
     "metadata": {},
     "output_type": "execute_result"
    }
   ],
   "source": [
    "data.shape"
   ]
  },
  {
   "cell_type": "code",
   "execution_count": 21,
   "metadata": {},
   "outputs": [
    {
     "data": {
      "text/plain": [
       "user.id_str           0\n",
       "user.name             0\n",
       "user.screen_name      0\n",
       "user.description    106\n",
       "conservative          0\n",
       "dtype: int64"
      ]
     },
     "execution_count": 21,
     "metadata": {},
     "output_type": "execute_result"
    }
   ],
   "source": [
    "data.isnull().sum()"
   ]
  },
  {
   "cell_type": "markdown",
   "metadata": {},
   "source": [
    "### Clean user data"
   ]
  },
  {
   "cell_type": "markdown",
   "metadata": {},
   "source": [
    "Impute null values"
   ]
  },
  {
   "cell_type": "code",
   "execution_count": 22,
   "metadata": {},
   "outputs": [],
   "source": [
    "data = data.fillna('')"
   ]
  },
  {
   "cell_type": "code",
   "execution_count": 23,
   "metadata": {},
   "outputs": [],
   "source": [
    "df = data[['user.name', 'user.description', 'conservative']]"
   ]
  },
  {
   "cell_type": "markdown",
   "metadata": {},
   "source": [
    "Remove unwanted elements from text."
   ]
  },
  {
   "cell_type": "markdown",
   "metadata": {},
   "source": [
    "Transform user names."
   ]
  },
  {
   "cell_type": "code",
   "execution_count": 24,
   "metadata": {
    "scrolled": true
   },
   "outputs": [
    {
     "name": "stdout",
     "output_type": "stream",
     "text": [
      "before: kj 👽✌\n",
      "after:  👽 ✌\n"
     ]
    },
    {
     "name": "stderr",
     "output_type": "stream",
     "text": [
      "C:\\Users\\admin\\.conda\\envs\\test\\lib\\site-packages\\ipykernel_launcher.py:11: SettingWithCopyWarning: \n",
      "A value is trying to be set on a copy of a slice from a DataFrame.\n",
      "Try using .loc[row_indexer,col_indexer] = value instead\n",
      "\n",
      "See the caveats in the documentation: http://pandas.pydata.org/pandas-docs/stable/user_guide/indexing.html#returning-a-view-versus-a-copy\n",
      "  # This is added back by InteractiveShellApp.init_path()\n"
     ]
    }
   ],
   "source": [
    "print('before:', df['user.name'][2])\n",
    "df['user.name'] = cz.text_list_cleaner(\n",
    "    df['user.name'].copy(),\n",
    "    cz.contractions, # remove contractions.\n",
    "    cz.re_ref['email'], # remove emails.\n",
    "    cz.re_ref['links'], # remove links.\n",
    "    pronoun_dict, # condense gender pronouns.\n",
    "    twitter_dict, # space out emojis and hashtags.\n",
    "    remove_non_emojis_and_hastags, # removes non emojis and hastags, then splits hashtags in CamelCase into individual words.\n",
    "    cz.remove_punctuation, # removes punctunation.\n",
    "    leftover_dict) # remove single letters, numbers and excess whitespaces.\n",
    "print('after:', df['user.name'][2])"
   ]
  },
  {
   "cell_type": "markdown",
   "metadata": {},
   "source": [
    "Now to process user descriptions."
   ]
  },
  {
   "cell_type": "code",
   "execution_count": 25,
   "metadata": {},
   "outputs": [
    {
     "name": "stdout",
     "output_type": "stream",
     "text": [
      "before: That's ignorant \n",
      "You're ignorant\n",
      "after:  That is ignorant You are ignorant\n"
     ]
    },
    {
     "name": "stderr",
     "output_type": "stream",
     "text": [
      "C:\\Users\\admin\\.conda\\envs\\test\\lib\\site-packages\\ipykernel_launcher.py:11: SettingWithCopyWarning: \n",
      "A value is trying to be set on a copy of a slice from a DataFrame.\n",
      "Try using .loc[row_indexer,col_indexer] = value instead\n",
      "\n",
      "See the caveats in the documentation: http://pandas.pydata.org/pandas-docs/stable/user_guide/indexing.html#returning-a-view-versus-a-copy\n",
      "  # This is added back by InteractiveShellApp.init_path()\n"
     ]
    }
   ],
   "source": [
    "print('before:', df['user.description'][0])\n",
    "df['user.description'] = cz.text_list_cleaner(\n",
    "    df['user.description'].copy(),\n",
    "    cz.contractions, # remove contractions.\n",
    "    cz.re_ref['email'], # remove emails.\n",
    "    cz.re_ref['links'], # remove links.\n",
    "    pronoun_dict, # condense gender pronouns.\n",
    "    twitter_dict, # space out emojis and hastags.\n",
    "    decompose_hastags, # splits hashtags in CamelCase into individual words.\n",
    "    cz.remove_punctuation, # removes punctunation.\n",
    "    leftover_dict)\n",
    "print('after:', df['user.description'][0])"
   ]
  },
  {
   "cell_type": "code",
   "execution_count": 26,
   "metadata": {
    "scrolled": false
   },
   "outputs": [
    {
     "name": "stderr",
     "output_type": "stream",
     "text": [
      "C:\\Users\\admin\\.conda\\envs\\test\\lib\\site-packages\\ipykernel_launcher.py:1: SettingWithCopyWarning: \n",
      "A value is trying to be set on a copy of a slice from a DataFrame.\n",
      "Try using .loc[row_indexer,col_indexer] = value instead\n",
      "\n",
      "See the caveats in the documentation: http://pandas.pydata.org/pandas-docs/stable/user_guide/indexing.html#returning-a-view-versus-a-copy\n",
      "  \"\"\"Entry point for launching an IPython kernel.\n"
     ]
    }
   ],
   "source": [
    "df['name_and_description'] = df['user.name'] + ' ' + df['user.description']"
   ]
  },
  {
   "cell_type": "markdown",
   "metadata": {},
   "source": [
    "Strip leading and trailing spaces."
   ]
  },
  {
   "cell_type": "code",
   "execution_count": 27,
   "metadata": {},
   "outputs": [
    {
     "name": "stderr",
     "output_type": "stream",
     "text": [
      "C:\\Users\\admin\\.conda\\envs\\test\\lib\\site-packages\\ipykernel_launcher.py:1: SettingWithCopyWarning: \n",
      "A value is trying to be set on a copy of a slice from a DataFrame.\n",
      "Try using .loc[row_indexer,col_indexer] = value instead\n",
      "\n",
      "See the caveats in the documentation: http://pandas.pydata.org/pandas-docs/stable/user_guide/indexing.html#returning-a-view-versus-a-copy\n",
      "  \"\"\"Entry point for launching an IPython kernel.\n"
     ]
    }
   ],
   "source": [
    "df['name_and_description'] = df['name_and_description'].str.strip()"
   ]
  },
  {
   "cell_type": "markdown",
   "metadata": {},
   "source": [
    "Save cleaned data into file."
   ]
  },
  {
   "cell_type": "code",
   "execution_count": 28,
   "metadata": {},
   "outputs": [],
   "source": [
    "export_path = r'..\\data\\replies_to_jk_rowling_users_clean.csv'\n",
    "df[['name_and_description', 'conservative']].to_csv(export_path)"
   ]
  },
  {
   "cell_type": "code",
   "execution_count": null,
   "metadata": {},
   "outputs": [],
   "source": []
  }
 ],
 "metadata": {
  "kernelspec": {
   "display_name": "Python 3",
   "language": "python",
   "name": "python3"
  },
  "language_info": {
   "codemirror_mode": {
    "name": "ipython",
    "version": 3
   },
   "file_extension": ".py",
   "mimetype": "text/x-python",
   "name": "python",
   "nbconvert_exporter": "python",
   "pygments_lexer": "ipython3",
   "version": "3.7.4"
  }
 },
 "nbformat": 4,
 "nbformat_minor": 2
}
