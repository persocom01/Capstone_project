{
 "cells": [
  {
   "cell_type": "markdown",
   "metadata": {},
   "source": [
    "# Modelling - eXtreme Gradient Boost\n",
    "\n",
    "## Goal:\n",
    "\n",
    "Using user names and descriptions, I will build a model to predict a person's political leanings, that being liberal or conservative.\n",
    "\n",
    "### Contents:\n",
    "- [1. Importing libraries](#1.-Importing-libraries)\n",
    "- [2. Importing datasets](#2.-Importing-datasets)\n",
    "- [3. Model hyperparameter tuning](#3.-Model-hyperparameter-tuning)\n",
    "- [4. Building the model](#4.-Data-Cleaning)\n",
    "- [5. Model validation and evaluation](#5.-Model-validation-and-evaluation)"
   ]
  },
  {
   "cell_type": "markdown",
   "metadata": {},
   "source": [
    "## 1. Importing libraries"
   ]
  },
  {
   "cell_type": "code",
   "execution_count": 36,
   "metadata": {},
   "outputs": [],
   "source": [
    "import pandas as pd\n",
    "import pleiades as ple\n",
    "from sklearn.model_selection import train_test_split\n",
    "from sklearn.pipeline import Pipeline\n",
    "from sklearn.model_selection import GridSearchCV\n",
    "from sklearn.feature_extraction.text import TfidfVectorizer\n",
    "import xgboost as xgb\n",
    "from sklearn.metrics import classification_report\n",
    "from sklearn.metrics import confusion_matrix\n",
    "import matplotlib.pyplot as plt\n",
    "import pickle\n",
    "pd.options.display.max_columns=110\n",
    "pd.options.display.max_rows=300"
   ]
  },
  {
   "cell_type": "markdown",
   "metadata": {},
   "source": [
    "## 2. Importing datasets"
   ]
  },
  {
   "cell_type": "code",
   "execution_count": 37,
   "metadata": {},
   "outputs": [],
   "source": [
    "import_path = r'..\\data\\#michellewilliams_users_clean.csv'\n",
    "df = pd.read_csv(import_path, index_col=0)\n",
    "\n",
    "import_path = r'..\\data\\replies_to_jk_rowling_users_clean.csv'\n",
    "df2 = pd.read_csv(import_path, index_col=0)"
   ]
  },
  {
   "cell_type": "code",
   "execution_count": 38,
   "metadata": {},
   "outputs": [
    {
     "data": {
      "text/html": [
       "<div>\n",
       "<style scoped>\n",
       "    .dataframe tbody tr th:only-of-type {\n",
       "        vertical-align: middle;\n",
       "    }\n",
       "\n",
       "    .dataframe tbody tr th {\n",
       "        vertical-align: top;\n",
       "    }\n",
       "\n",
       "    .dataframe thead th {\n",
       "        text-align: right;\n",
       "    }\n",
       "</style>\n",
       "<table border=\"1\" class=\"dataframe\">\n",
       "  <thead>\n",
       "    <tr style=\"text-align: right;\">\n",
       "      <th></th>\n",
       "      <th>name_and_description</th>\n",
       "      <th>conservative</th>\n",
       "    </tr>\n",
       "  </thead>\n",
       "  <tbody>\n",
       "    <tr>\n",
       "      <td>0</td>\n",
       "      <td>Boris Is My Prime Minister ✡ ️ 🇬🇧</td>\n",
       "      <td>1.0</td>\n",
       "    </tr>\n",
       "    <tr>\n",
       "      <td>1</td>\n",
       "      <td>🇺🇸 🇺🇸  Red Blooded All American 🌾 Heartland bo...</td>\n",
       "      <td>1.0</td>\n",
       "    </tr>\n",
       "    <tr>\n",
       "      <td>2</td>\n",
       "      <td>Indian singer Army brat Muay Thai panda Horse ...</td>\n",
       "      <td>0.0</td>\n",
       "    </tr>\n",
       "    <tr>\n",
       "      <td>3</td>\n",
       "      <td>Christian SC Gamecocks College Football Outdoo...</td>\n",
       "      <td>1.0</td>\n",
       "    </tr>\n",
       "    <tr>\n",
       "      <td>4</td>\n",
       "      <td>Mother of Amma to love my kids love my grandki...</td>\n",
       "      <td>1.0</td>\n",
       "    </tr>\n",
       "  </tbody>\n",
       "</table>\n",
       "</div>"
      ],
      "text/plain": [
       "                                name_and_description  conservative\n",
       "0                  Boris Is My Prime Minister ✡ ️ 🇬🇧           1.0\n",
       "1  🇺🇸 🇺🇸  Red Blooded All American 🌾 Heartland bo...           1.0\n",
       "2  Indian singer Army brat Muay Thai panda Horse ...           0.0\n",
       "3  Christian SC Gamecocks College Football Outdoo...           1.0\n",
       "4  Mother of Amma to love my kids love my grandki...           1.0"
      ]
     },
     "execution_count": 38,
     "metadata": {},
     "output_type": "execute_result"
    }
   ],
   "source": [
    "df.head()"
   ]
  },
  {
   "cell_type": "code",
   "execution_count": 39,
   "metadata": {},
   "outputs": [],
   "source": [
    "df = df.fillna('')\n",
    "df2 = df2.fillna('')"
   ]
  },
  {
   "cell_type": "code",
   "execution_count": 40,
   "metadata": {},
   "outputs": [],
   "source": [
    "X = df['name_and_description']\n",
    "X_val = df2['name_and_description']\n",
    "y = df['conservative'].values\n",
    "y_val = df2['conservative'].values"
   ]
  },
  {
   "cell_type": "code",
   "execution_count": 41,
   "metadata": {},
   "outputs": [],
   "source": [
    "X_train, X_test, y_train, y_test = train_test_split(X, y, random_state=22)\n",
    "sebas = ple.Sebastian()"
   ]
  },
  {
   "cell_type": "markdown",
   "metadata": {},
   "source": [
    "## 3. Model hyperparameter tuning"
   ]
  },
  {
   "cell_type": "code",
   "execution_count": 16,
   "metadata": {
    "scrolled": true
   },
   "outputs": [
    {
     "name": "stdout",
     "output_type": "stream",
     "text": [
      "best score: 0.8081145584725536\n",
      "best params: tvec: max_df=0.3, max_features=5000, min_df=1, ngram_range=(1, 1), stop_words='english', token_pattern='([^\\s]+)' xgb_class: colsample_bytree=1, max_depth=6, subsample=1\n",
      "\n"
     ]
    }
   ],
   "source": [
    "pipe = Pipeline([\n",
    "    ('tvec', TfidfVectorizer()),\n",
    "    ('xgb_class', xgb.XGBClassifier())\n",
    "])\n",
    "params = {\n",
    "    'tvec__stop_words': ['english'],\n",
    "    'tvec__ngram_range': [(1, 1), (1, 2)],\n",
    "    'tvec__max_df': [.3, .6, .9],\n",
    "    'tvec__min_df': [1, 3, 7],\n",
    "    'tvec__max_features': [2000, 5000, 10000],\n",
    "    'tvec__token_pattern': [r'([^\\s]+)'],\n",
    "    'xgb_class__max_depth': [4, 5, 6],\n",
    "    'xgb_class__subsample': [.8, 1],\n",
    "    'xgb_class__colsample_bytree': [.8, 1]\n",
    "}\n",
    "\n",
    "gs = GridSearchCV(pipe, param_grid=params, cv=5, n_jobs=-1)\n",
    "gs.fit(X_train, y_train)\n",
    "# best score: 0.8081145584725536\n",
    "print('best score:', gs.best_score_)\n",
    "# best params: tvec: max_df=0.3, max_features=5000, min_df=1, ngram_range=(1, 1), stop_words='english', token_pattern='([^\\s]+)' xgb_class: colsample_bytree=1, max_depth=6, subsample=1\n",
    "print('best params:', sebas.get_params(gs.best_params_))\n",
    "print()"
   ]
  },
  {
   "cell_type": "markdown",
   "metadata": {},
   "source": [
    "## 4. Building the model"
   ]
  },
  {
   "cell_type": "code",
   "execution_count": 43,
   "metadata": {},
   "outputs": [],
   "source": [
    "tvec = TfidfVectorizer(max_df=0.3, max_features=5000, min_df=1, ngram_range=(1, 1), stop_words='english', token_pattern='([^\\s]+)')\n",
    "X_train = tvec.fit_transform(X_train)\n",
    "feature_names = [x.replace(' ', '_') for x in tvec.get_feature_names()]\n",
    "X_train = pd.DataFrame(X_train.toarray(), columns=feature_names)\n",
    "X_test = tvec.transform(X_test)\n",
    "X_test = pd.DataFrame(X_test.toarray(), columns=feature_names)\n",
    "X_val = tvec.transform(X_val)\n",
    "X_val = pd.DataFrame(X_val.toarray(), columns=feature_names)"
   ]
  },
  {
   "cell_type": "code",
   "execution_count": 44,
   "metadata": {},
   "outputs": [
    {
     "name": "stdout",
     "output_type": "stream",
     "text": [
      "TfidfVectorizer:\n",
      "🇺🇸       175.936716\n",
      "️        170.340473\n",
      "maga     116.087153\n",
      "trump    112.581509\n",
      "love     107.452647\n",
      "⭐         92.887346\n",
      "life      76.834655\n",
      "❤         67.516191\n",
      "god       66.767148\n",
      "kag       63.956198\n",
      "dtype: float64\n"
     ]
    }
   ],
   "source": [
    "print('TfidfVectorizer:')\n",
    "print(X_train.sum().sort_values(ascending=False)[:10])"
   ]
  },
  {
   "cell_type": "code",
   "execution_count": 45,
   "metadata": {
    "scrolled": true
   },
   "outputs": [
    {
     "data": {
      "text/plain": [
       "XGBClassifier(base_score=0.5, booster='gbtree', colsample_bylevel=1,\n",
       "              colsample_bynode=1, colsample_bytree=1, gamma=0,\n",
       "              learning_rate=0.1, max_delta_step=0, max_depth=6,\n",
       "              min_child_weight=1, missing=None, n_estimators=100, n_jobs=1,\n",
       "              nthread=None, objective='binary:logistic', random_state=0,\n",
       "              reg_alpha=0, reg_lambda=1, scale_pos_weight=1, seed=None,\n",
       "              silent=None, subsample=1, verbosity=1)"
      ]
     },
     "execution_count": 45,
     "metadata": {},
     "output_type": "execute_result"
    }
   ],
   "source": [
    "xgb_class = xgb.XGBClassifier(colsample_bytree=1, max_depth=6, subsample=1)\n",
    "xgb_class.fit(X_train, y_train)"
   ]
  },
  {
   "cell_type": "code",
   "execution_count": 46,
   "metadata": {},
   "outputs": [],
   "source": [
    "pickle.dump(xgb_class, open(r'..\\pickles\\model_xgb.sav', 'wb'))"
   ]
  },
  {
   "cell_type": "markdown",
   "metadata": {},
   "source": [
    "## 5. Model validation and evaluation"
   ]
  },
  {
   "cell_type": "code",
   "execution_count": 47,
   "metadata": {},
   "outputs": [],
   "source": [
    "with open(r'..\\pickles\\model_xgb.sav', 'rb') as f:\n",
    "    xgb_class = pickle.load(f)"
   ]
  },
  {
   "cell_type": "code",
   "execution_count": 48,
   "metadata": {},
   "outputs": [],
   "source": [
    "y_pred = xgb_class.predict(X_test)\n",
    "y_pred2 = xgb_class.predict(X_val)\n",
    "y_prob = xgb_class.predict_proba(X_test)\n",
    "y_prob2 = xgb_class.predict_proba(X_val)"
   ]
  },
  {
   "cell_type": "code",
   "execution_count": 49,
   "metadata": {},
   "outputs": [],
   "source": [
    "sebas = ple.Sebastian()"
   ]
  },
  {
   "cell_type": "markdown",
   "metadata": {},
   "source": [
    "### Plot most important features"
   ]
  },
  {
   "cell_type": "code",
   "execution_count": 50,
   "metadata": {},
   "outputs": [
    {
     "name": "stdout",
     "output_type": "stream",
     "text": [
      "most_important_features: {'maga': 0.19340111, 'conservative': 0.057176616, 'jesus': 0.024534458, '🇺🇸': 0.023266438, 'christian': 0.022261452, 'god': 0.020626942, 'kag': 0.018831542, '⭐': 0.018538907, '🌈': 0.016781664, 'resist': 0.016684998, '🌊': 0.0162693, 'resistance': 0.013048213, 'patriot': 0.011197153, 'wwg1wga': 0.01049811, '2a': 0.010464876, '❌': 0.009883616, 'christ': 0.009521365, '💚': 0.009312537, 'feminist': 0.009013554, 'america': 0.008491555, 'writer': 0.008301027, 'trump': 0.007970694, 'government': 0.007923979, 'blue': 0.0077234255, 'catholic': 0.007657248, 'en': 0.007471807, '\\u200d': 0.0071396315, 'genflynn': 0.007028629, '✝': 0.006958363, '✨': 0.0066527687, 'tv': 0.00657151, 'girl': 0.0064472375, 'good': 0.0062424056, '2020': 0.00623172, 'followed': 0.0062276497, 'film': 0.0060848594, 'journalist': 0.0059425393, 'activist': 0.005911696, 'choice': 0.0058778995, 'vote': 0.0058205, 'producer': 0.005747213, 'liberals': 0.0055626277, 'lover': 0.005562337, 'pro': 0.0054686936, 'impeach': 0.0053470996, 'usa': 0.005334092, 'faith': 0.005325065, 'married': 0.0053153345, 'genderpronouns': 0.00523726, 'teacher': 0.0051841685, 'stand': 0.005181754, '🆘': 0.005174038, 'instagram': 0.0051721097, 'prolife': 0.0051252414, 'news': 0.0051235897, '🌟': 0.005099842, 'anti': 0.005093852, 'é': 0.0049147205, 'learn': 0.004863418, 'account': 0.0048529054, 'team': 0.004850439, 'equality': 0.0048345, '💜': 0.0048197275, 'book': 0.0047993436, 'science': 0.004777879, 'actor': 0.0047694943, 'mind': 0.004657464, 'liberty': 0.004641888, 'republican': 0.0046122205, 'matter': 0.0045459275, 'familia': 0.004543043, 'fbr': 0.0045401184, 'professor': 0.004530734, 'father': 0.0045223436, 'navy': 0.0045150695, 'passionate': 0.004499048, 'school': 0.004272587, 'alum': 0.0042076055, 'enjoy': 0.0041824183, 'culture': 0.004125412, 'advocate': 0.0041192016, 'away': 0.0041158153, 'lord': 0.004092639, 'music': 0.0040756455, 'resister': 0.0040216846, 'real': 0.003989988, 'nerd': 0.0039736787, 'singer': 0.003960171, 'peace': 0.003931363, 'supporter': 0.0038600347, 'nyc': 0.0038568221, 'american': 0.0037917434, 'í': 0.003716328, 'progressive': 0.0036417213, 'does': 0.0035821598, 'founder': 0.0035685105, 'country': 0.0035237225, 'radio': 0.0033270342, 'fan': 0.0031991953, 'freedom': 0.0030538675, 'host': 0.0029845561, 'women': 0.0028750922, 'follow': 0.0027906888, '•': 0.0027836019, '❤': 0.0026750704, '🌎': 0.002617767, 'student': 0.002516523, 'president': 0.002429366, 'wife': 0.0024222755, 'dog': 0.0023549986, 'truth': 0.0022752415, 'artist': 0.0022702527, 'mom': 0.0021039322, 'opinions': 0.002055807, 'friends': 0.0019708138, '️': 0.0019225535, '🏻': 0.00185781, 'tyranny': 0.0018040992, 'politics': 0.0017129289, 'family': 0.0014952783, 'life': 0.001455939, 'twitter': 0.0014017321, 'mother': 0.0013433929, 'director': 0.00134224, 'liberal': 0.001324083, '♂': 0.0012279343, 'proud': 0.001081831, '👨': 0.0010182236, 'democrat': 0.0009712019, 'believe': 0.0009123764, 'dogs': 0.00090561155, 'old': 0.0008638253, '🇨🇦': 0.0008625193, 'red': 0.00082756596, 'justice': 0.0007116254, 'love': 0.0007031417, 'retired': 0.0006779393, '🚫': 0.00066976185, 'happily': 0.0006676935, 'del': 0.0006438034, 'great': 0.00060932885, 'just': 0.0005171478, 'la': 0.00045619864, 'make': 0.00045385744, 'follower': 0.00044695302, 'lists': 0.0004311444, 'thanks': 0.00041346045, 'army': 0.00039366045, 'looking': 0.00037313576, 'designer': 0.00036835144, '🐘': 0.00036474506, 'witty': 0.00034111942, 'qanon': 0.000331247, '🐾': 0.0002611913, 'health': 0.00023530642, 'son': 0.00023061091, 'rights': 0.00021923742, 'sister': 0.00019945379, '🦅': 0.00018956959, 'facebook': 0.00017166462, 'seeker': 0.00013757467}\n",
      "\n"
     ]
    }
   ],
   "source": [
    "print('most_important_features:', sebas.get_features(X_train, xgb_class.feature_importances_, order='dsc'))\n",
    "print()"
   ]
  },
  {
   "cell_type": "code",
   "execution_count": 51,
   "metadata": {
    "scrolled": false
   },
   "outputs": [
    {
     "name": "stderr",
     "output_type": "stream",
     "text": [
      "C:\\Users\\admin\\.conda\\envs\\test\\lib\\site-packages\\matplotlib\\backends\\backend_agg.py:211: RuntimeWarning: Glyph 55357 missing from current font.\n",
      "  font.set_text(s, 0.0, flags=flags)\n",
      "C:\\Users\\admin\\.conda\\envs\\test\\lib\\site-packages\\matplotlib\\backends\\backend_agg.py:211: RuntimeWarning: Glyph 56474 missing from current font.\n",
      "  font.set_text(s, 0.0, flags=flags)\n",
      "C:\\Users\\admin\\.conda\\envs\\test\\lib\\site-packages\\matplotlib\\backends\\backend_agg.py:211: RuntimeWarning: Glyph 10060 missing from current font.\n",
      "  font.set_text(s, 0.0, flags=flags)\n",
      "C:\\Users\\admin\\.conda\\envs\\test\\lib\\site-packages\\matplotlib\\backends\\backend_agg.py:211: RuntimeWarning: Glyph 55356 missing from current font.\n",
      "  font.set_text(s, 0.0, flags=flags)\n",
      "C:\\Users\\admin\\.conda\\envs\\test\\lib\\site-packages\\matplotlib\\backends\\backend_agg.py:211: RuntimeWarning: Glyph 57098 missing from current font.\n",
      "  font.set_text(s, 0.0, flags=flags)\n",
      "C:\\Users\\admin\\.conda\\envs\\test\\lib\\site-packages\\matplotlib\\backends\\backend_agg.py:211: RuntimeWarning: Glyph 57096 missing from current font.\n",
      "  font.set_text(s, 0.0, flags=flags)\n",
      "C:\\Users\\admin\\.conda\\envs\\test\\lib\\site-packages\\matplotlib\\backends\\backend_agg.py:211: RuntimeWarning: Glyph 11088 missing from current font.\n",
      "  font.set_text(s, 0.0, flags=flags)\n",
      "C:\\Users\\admin\\.conda\\envs\\test\\lib\\site-packages\\matplotlib\\backends\\backend_agg.py:211: RuntimeWarning: Glyph 56826 missing from current font.\n",
      "  font.set_text(s, 0.0, flags=flags)\n",
      "C:\\Users\\admin\\.conda\\envs\\test\\lib\\site-packages\\matplotlib\\backends\\backend_agg.py:211: RuntimeWarning: Glyph 56824 missing from current font.\n",
      "  font.set_text(s, 0.0, flags=flags)\n",
      "C:\\Users\\admin\\.conda\\envs\\test\\lib\\site-packages\\matplotlib\\backends\\backend_agg.py:176: RuntimeWarning: Glyph 128154 missing from current font.\n",
      "  font.load_char(ord(s), flags=flags)\n",
      "C:\\Users\\admin\\.conda\\envs\\test\\lib\\site-packages\\matplotlib\\backends\\backend_agg.py:176: RuntimeWarning: Glyph 10060 missing from current font.\n",
      "  font.load_char(ord(s), flags=flags)\n",
      "C:\\Users\\admin\\.conda\\envs\\test\\lib\\site-packages\\matplotlib\\backends\\backend_agg.py:176: RuntimeWarning: Glyph 127754 missing from current font.\n",
      "  font.load_char(ord(s), flags=flags)\n",
      "C:\\Users\\admin\\.conda\\envs\\test\\lib\\site-packages\\matplotlib\\backends\\backend_agg.py:176: RuntimeWarning: Glyph 127752 missing from current font.\n",
      "  font.load_char(ord(s), flags=flags)\n",
      "C:\\Users\\admin\\.conda\\envs\\test\\lib\\site-packages\\matplotlib\\backends\\backend_agg.py:176: RuntimeWarning: Glyph 11088 missing from current font.\n",
      "  font.load_char(ord(s), flags=flags)\n",
      "C:\\Users\\admin\\.conda\\envs\\test\\lib\\site-packages\\matplotlib\\backends\\backend_agg.py:180: RuntimeWarning: Glyph 55356 missing from current font.\n",
      "  font.set_text(s, 0, flags=flags)\n",
      "C:\\Users\\admin\\.conda\\envs\\test\\lib\\site-packages\\matplotlib\\backends\\backend_agg.py:180: RuntimeWarning: Glyph 56826 missing from current font.\n",
      "  font.set_text(s, 0, flags=flags)\n",
      "C:\\Users\\admin\\.conda\\envs\\test\\lib\\site-packages\\matplotlib\\backends\\backend_agg.py:180: RuntimeWarning: Glyph 56824 missing from current font.\n",
      "  font.set_text(s, 0, flags=flags)\n"
     ]
    },
    {
     "data": {
      "image/png": "[encoded data removed]",
      "text/plain": [
       "<Figure size 900x720 with 1 Axes>"
      ]
     },
     "metadata": {
      "needs_background": "light"
     },
     "output_type": "display_data"
    }
   ],
   "source": [
    "sebas.plot_importances(max_features=20, figsize=(12.5, 10))"
   ]
  },
  {
   "cell_type": "markdown",
   "metadata": {},
   "source": [
    "### Run model on test and validation set"
   ]
  },
  {
   "cell_type": "code",
   "execution_count": 53,
   "metadata": {},
   "outputs": [
    {
     "name": "stdout",
     "output_type": "stream",
     "text": [
      "              precision    recall  f1-score   support\n",
      "\n",
      "         0.0       0.75      0.97      0.85      1169\n",
      "         1.0       0.94      0.60      0.73       927\n",
      "\n",
      "    accuracy                           0.81      2096\n",
      "   macro avg       0.85      0.78      0.79      2096\n",
      "weighted avg       0.84      0.81      0.80      2096\n",
      "\n"
     ]
    }
   ],
   "source": [
    "print(classification_report(y_test, y_pred, output_dict=False))"
   ]
  },
  {
   "cell_type": "code",
   "execution_count": 54,
   "metadata": {},
   "outputs": [
    {
     "name": "stdout",
     "output_type": "stream",
     "text": [
      "[[1135   34]\n",
      " [ 374  553]]\n"
     ]
    }
   ],
   "source": [
    "print(confusion_matrix(y_test, y_pred))"
   ]
  },
  {
   "cell_type": "code",
   "execution_count": 55,
   "metadata": {},
   "outputs": [
    {
     "data": {
      "image/png": "[encoded data removed]",
      "text/plain": [
       "<Figure size 900x540 with 1 Axes>"
      ]
     },
     "metadata": {
      "needs_background": "light"
     },
     "output_type": "display_data"
    }
   ],
   "source": [
    "yuri = ple.Yuri()\n",
    "\n",
    "yuri.plot_roc(y_test, y_prob, figsize=(12.5, 7.5))"
   ]
  },
  {
   "cell_type": "code",
   "execution_count": 56,
   "metadata": {},
   "outputs": [
    {
     "name": "stdout",
     "output_type": "stream",
     "text": [
      "              precision    recall  f1-score   support\n",
      "\n",
      "         0.0       0.86      0.99      0.92       781\n",
      "         1.0       0.82      0.25      0.38       166\n",
      "\n",
      "    accuracy                           0.86       947\n",
      "   macro avg       0.84      0.62      0.65       947\n",
      "weighted avg       0.85      0.86      0.83       947\n",
      "\n"
     ]
    }
   ],
   "source": [
    "print(classification_report(y_val, y_pred2, output_dict=False))"
   ]
  },
  {
   "cell_type": "code",
   "execution_count": 57,
   "metadata": {},
   "outputs": [
    {
     "name": "stdout",
     "output_type": "stream",
     "text": [
      "[[772   9]\n",
      " [125  41]]\n"
     ]
    }
   ],
   "source": [
    "print(confusion_matrix(y_val, y_pred2))"
   ]
  },
  {
   "cell_type": "code",
   "execution_count": 58,
   "metadata": {},
   "outputs": [
    {
     "data": {
      "image/png": "[encoded data removed]",
      "text/plain": [
       "<Figure size 900x540 with 1 Axes>"
      ]
     },
     "metadata": {
      "needs_background": "light"
     },
     "output_type": "display_data"
    }
   ],
   "source": [
    "yuri = ple.Yuri()\n",
    "\n",
    "yuri.plot_roc(y_val, y_prob2, figsize=(12.5, 7.5))"
   ]
  },
  {
   "cell_type": "markdown",
   "metadata": {},
   "source": [
    "### Conclusion"
   ]
  },
  {
   "cell_type": "markdown",
   "metadata": {},
   "source": [
    "- The model proved to be reasonably accurate in predicting the political leanings of a person, with an accuracy of 81% on the test dataset and 86% on the validation dataset. This shows that the model is not overfitted.\n",
    "- The precision of the model remains high across both datasets.\n",
    "- Many of the terms that the model used to predict a person's political leanings are dependent on the current political climate in the United States, which are likely to change every 4 years.\n",
    "- It also needs to be kept in mind that the model was trained on an English speaking, mostly American subset of the twitter population. While it appears to be reasonably accurate on English twitter on European topics, it may not be as accurate in less westernized English speaking countries like Singapore."
   ]
  },
  {
   "cell_type": "code",
   "execution_count": null,
   "metadata": {},
   "outputs": [],
   "source": []
  }
 ],
 "metadata": {
  "kernelspec": {
   "display_name": "Python 3",
   "language": "python",
   "name": "python3"
  },
  "language_info": {
   "codemirror_mode": {
    "name": "ipython",
    "version": 3
   },
   "file_extension": ".py",
   "mimetype": "text/x-python",
   "name": "python",
   "nbconvert_exporter": "python",
   "pygments_lexer": "ipython3",
   "version": "3.7.4"
  }
 },
 "nbformat": 4,
 "nbformat_minor": 2
}
